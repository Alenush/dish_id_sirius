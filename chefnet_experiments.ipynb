{
  "nbformat": 4,
  "nbformat_minor": 0,
  "metadata": {
    "colab": {
      "name": "chefnet experiments.ipynb",
      "provenance": [],
      "collapsed_sections": [],
      "machine_shape": "hm",
      "authorship_tag": "ABX9TyNq6FCCqHBDa/youbYqwEvn",
      "include_colab_link": true
    },
    "kernelspec": {
      "name": "python3",
      "display_name": "Python 3"
    },
    "accelerator": "GPU",
    "widgets": {
      "application/vnd.jupyter.widget-state+json": {
        "771e012203f74a3f9f172b7219ba52b5": {
          "model_module": "@jupyter-widgets/controls",
          "model_name": "HBoxModel",
          "state": {
            "_view_name": "HBoxView",
            "_dom_classes": [],
            "_model_name": "HBoxModel",
            "_view_module": "@jupyter-widgets/controls",
            "_model_module_version": "1.5.0",
            "_view_count": null,
            "_view_module_version": "1.5.0",
            "box_style": "",
            "layout": "IPY_MODEL_2cd08bc6408a49358bc9cd1da734eb0b",
            "_model_module": "@jupyter-widgets/controls",
            "children": [
              "IPY_MODEL_a212d360bbb64382800dc8caf48f9a9a",
              "IPY_MODEL_2807ed8e973c44cea43d4cc5c6145704"
            ]
          }
        },
        "2cd08bc6408a49358bc9cd1da734eb0b": {
          "model_module": "@jupyter-widgets/base",
          "model_name": "LayoutModel",
          "state": {
            "_view_name": "LayoutView",
            "grid_template_rows": null,
            "right": null,
            "justify_content": null,
            "_view_module": "@jupyter-widgets/base",
            "overflow": null,
            "_model_module_version": "1.2.0",
            "_view_count": null,
            "flex_flow": null,
            "width": null,
            "min_width": null,
            "border": null,
            "align_items": null,
            "bottom": null,
            "_model_module": "@jupyter-widgets/base",
            "top": null,
            "grid_column": null,
            "overflow_y": null,
            "overflow_x": null,
            "grid_auto_flow": null,
            "grid_area": null,
            "grid_template_columns": null,
            "flex": null,
            "_model_name": "LayoutModel",
            "justify_items": null,
            "grid_row": null,
            "max_height": null,
            "align_content": null,
            "visibility": null,
            "align_self": null,
            "height": null,
            "min_height": null,
            "padding": null,
            "grid_auto_rows": null,
            "grid_gap": null,
            "max_width": null,
            "order": null,
            "_view_module_version": "1.2.0",
            "grid_template_areas": null,
            "object_position": null,
            "object_fit": null,
            "grid_auto_columns": null,
            "margin": null,
            "display": null,
            "left": null
          }
        },
        "a212d360bbb64382800dc8caf48f9a9a": {
          "model_module": "@jupyter-widgets/controls",
          "model_name": "FloatProgressModel",
          "state": {
            "_view_name": "ProgressView",
            "style": "IPY_MODEL_c9d5175231bc4859bdaef60c04dead00",
            "_dom_classes": [],
            "description": "Checking images: 100%",
            "_model_name": "FloatProgressModel",
            "bar_style": "success",
            "max": 187047,
            "_view_module": "@jupyter-widgets/controls",
            "_model_module_version": "1.5.0",
            "value": 187047,
            "_view_count": null,
            "_view_module_version": "1.5.0",
            "orientation": "horizontal",
            "min": 0,
            "description_tooltip": null,
            "_model_module": "@jupyter-widgets/controls",
            "layout": "IPY_MODEL_f28841ef517a4b5983e3007f02c3d538"
          }
        },
        "2807ed8e973c44cea43d4cc5c6145704": {
          "model_module": "@jupyter-widgets/controls",
          "model_name": "HTMLModel",
          "state": {
            "_view_name": "HTMLView",
            "style": "IPY_MODEL_1f66669bcdb440f29bd164d4a63815ca",
            "_dom_classes": [],
            "description": "",
            "_model_name": "HTMLModel",
            "placeholder": "​",
            "_view_module": "@jupyter-widgets/controls",
            "_model_module_version": "1.5.0",
            "value": " 187047/187047 [04:00&lt;00:00, 778.02it/s]",
            "_view_count": null,
            "_view_module_version": "1.5.0",
            "description_tooltip": null,
            "_model_module": "@jupyter-widgets/controls",
            "layout": "IPY_MODEL_e1762dcd68d7467596595566d1413c2e"
          }
        },
        "c9d5175231bc4859bdaef60c04dead00": {
          "model_module": "@jupyter-widgets/controls",
          "model_name": "ProgressStyleModel",
          "state": {
            "_view_name": "StyleView",
            "_model_name": "ProgressStyleModel",
            "description_width": "initial",
            "_view_module": "@jupyter-widgets/base",
            "_model_module_version": "1.5.0",
            "_view_count": null,
            "_view_module_version": "1.2.0",
            "bar_color": null,
            "_model_module": "@jupyter-widgets/controls"
          }
        },
        "f28841ef517a4b5983e3007f02c3d538": {
          "model_module": "@jupyter-widgets/base",
          "model_name": "LayoutModel",
          "state": {
            "_view_name": "LayoutView",
            "grid_template_rows": null,
            "right": null,
            "justify_content": null,
            "_view_module": "@jupyter-widgets/base",
            "overflow": null,
            "_model_module_version": "1.2.0",
            "_view_count": null,
            "flex_flow": null,
            "width": null,
            "min_width": null,
            "border": null,
            "align_items": null,
            "bottom": null,
            "_model_module": "@jupyter-widgets/base",
            "top": null,
            "grid_column": null,
            "overflow_y": null,
            "overflow_x": null,
            "grid_auto_flow": null,
            "grid_area": null,
            "grid_template_columns": null,
            "flex": null,
            "_model_name": "LayoutModel",
            "justify_items": null,
            "grid_row": null,
            "max_height": null,
            "align_content": null,
            "visibility": null,
            "align_self": null,
            "height": null,
            "min_height": null,
            "padding": null,
            "grid_auto_rows": null,
            "grid_gap": null,
            "max_width": null,
            "order": null,
            "_view_module_version": "1.2.0",
            "grid_template_areas": null,
            "object_position": null,
            "object_fit": null,
            "grid_auto_columns": null,
            "margin": null,
            "display": null,
            "left": null
          }
        },
        "1f66669bcdb440f29bd164d4a63815ca": {
          "model_module": "@jupyter-widgets/controls",
          "model_name": "DescriptionStyleModel",
          "state": {
            "_view_name": "StyleView",
            "_model_name": "DescriptionStyleModel",
            "description_width": "",
            "_view_module": "@jupyter-widgets/base",
            "_model_module_version": "1.5.0",
            "_view_count": null,
            "_view_module_version": "1.2.0",
            "_model_module": "@jupyter-widgets/controls"
          }
        },
        "e1762dcd68d7467596595566d1413c2e": {
          "model_module": "@jupyter-widgets/base",
          "model_name": "LayoutModel",
          "state": {
            "_view_name": "LayoutView",
            "grid_template_rows": null,
            "right": null,
            "justify_content": null,
            "_view_module": "@jupyter-widgets/base",
            "overflow": null,
            "_model_module_version": "1.2.0",
            "_view_count": null,
            "flex_flow": null,
            "width": null,
            "min_width": null,
            "border": null,
            "align_items": null,
            "bottom": null,
            "_model_module": "@jupyter-widgets/base",
            "top": null,
            "grid_column": null,
            "overflow_y": null,
            "overflow_x": null,
            "grid_auto_flow": null,
            "grid_area": null,
            "grid_template_columns": null,
            "flex": null,
            "_model_name": "LayoutModel",
            "justify_items": null,
            "grid_row": null,
            "max_height": null,
            "align_content": null,
            "visibility": null,
            "align_self": null,
            "height": null,
            "min_height": null,
            "padding": null,
            "grid_auto_rows": null,
            "grid_gap": null,
            "max_width": null,
            "order": null,
            "_view_module_version": "1.2.0",
            "grid_template_areas": null,
            "object_position": null,
            "object_fit": null,
            "grid_auto_columns": null,
            "margin": null,
            "display": null,
            "left": null
          }
        },
        "57845d1da9d14085b428a1a84b0e1fde": {
          "model_module": "@jupyter-widgets/controls",
          "model_name": "HBoxModel",
          "state": {
            "_view_name": "HBoxView",
            "_dom_classes": [],
            "_model_name": "HBoxModel",
            "_view_module": "@jupyter-widgets/controls",
            "_model_module_version": "1.5.0",
            "_view_count": null,
            "_view_module_version": "1.5.0",
            "box_style": "",
            "layout": "IPY_MODEL_ff0e5c394c5d4dc190f4f211a5a08be6",
            "_model_module": "@jupyter-widgets/controls",
            "children": [
              "IPY_MODEL_e02aa259a9534257bd65127e582b202d",
              "IPY_MODEL_2b3a385ff6ea49e2a88ff84450820edd"
            ]
          }
        },
        "ff0e5c394c5d4dc190f4f211a5a08be6": {
          "model_module": "@jupyter-widgets/base",
          "model_name": "LayoutModel",
          "state": {
            "_view_name": "LayoutView",
            "grid_template_rows": null,
            "right": null,
            "justify_content": null,
            "_view_module": "@jupyter-widgets/base",
            "overflow": null,
            "_model_module_version": "1.2.0",
            "_view_count": null,
            "flex_flow": null,
            "width": null,
            "min_width": null,
            "border": null,
            "align_items": null,
            "bottom": null,
            "_model_module": "@jupyter-widgets/base",
            "top": null,
            "grid_column": null,
            "overflow_y": null,
            "overflow_x": null,
            "grid_auto_flow": null,
            "grid_area": null,
            "grid_template_columns": null,
            "flex": null,
            "_model_name": "LayoutModel",
            "justify_items": null,
            "grid_row": null,
            "max_height": null,
            "align_content": null,
            "visibility": null,
            "align_self": null,
            "height": null,
            "min_height": null,
            "padding": null,
            "grid_auto_rows": null,
            "grid_gap": null,
            "max_width": null,
            "order": null,
            "_view_module_version": "1.2.0",
            "grid_template_areas": null,
            "object_position": null,
            "object_fit": null,
            "grid_auto_columns": null,
            "margin": null,
            "display": null,
            "left": null
          }
        },
        "e02aa259a9534257bd65127e582b202d": {
          "model_module": "@jupyter-widgets/controls",
          "model_name": "FloatProgressModel",
          "state": {
            "_view_name": "ProgressView",
            "style": "IPY_MODEL_5a2f78b8dacc4f7ebf9214c8b2826bea",
            "_dom_classes": [],
            "description": "Preprocess ingredients: 100%",
            "_model_name": "FloatProgressModel",
            "bar_style": "success",
            "max": 27827,
            "_view_module": "@jupyter-widgets/controls",
            "_model_module_version": "1.5.0",
            "value": 27827,
            "_view_count": null,
            "_view_module_version": "1.5.0",
            "orientation": "horizontal",
            "min": 0,
            "description_tooltip": null,
            "_model_module": "@jupyter-widgets/controls",
            "layout": "IPY_MODEL_645720181bc240a18c4873b85a61369e"
          }
        },
        "2b3a385ff6ea49e2a88ff84450820edd": {
          "model_module": "@jupyter-widgets/controls",
          "model_name": "HTMLModel",
          "state": {
            "_view_name": "HTMLView",
            "style": "IPY_MODEL_97962543c6ba45aa96d9acd31e2024a7",
            "_dom_classes": [],
            "description": "",
            "_model_name": "HTMLModel",
            "placeholder": "​",
            "_view_module": "@jupyter-widgets/controls",
            "_model_module_version": "1.5.0",
            "value": " 27827/27827 [00:05&lt;00:00, 5190.68it/s]",
            "_view_count": null,
            "_view_module_version": "1.5.0",
            "description_tooltip": null,
            "_model_module": "@jupyter-widgets/controls",
            "layout": "IPY_MODEL_21dd69ef3a374ef4b2141d707c9b0447"
          }
        },
        "5a2f78b8dacc4f7ebf9214c8b2826bea": {
          "model_module": "@jupyter-widgets/controls",
          "model_name": "ProgressStyleModel",
          "state": {
            "_view_name": "StyleView",
            "_model_name": "ProgressStyleModel",
            "description_width": "initial",
            "_view_module": "@jupyter-widgets/base",
            "_model_module_version": "1.5.0",
            "_view_count": null,
            "_view_module_version": "1.2.0",
            "bar_color": null,
            "_model_module": "@jupyter-widgets/controls"
          }
        },
        "645720181bc240a18c4873b85a61369e": {
          "model_module": "@jupyter-widgets/base",
          "model_name": "LayoutModel",
          "state": {
            "_view_name": "LayoutView",
            "grid_template_rows": null,
            "right": null,
            "justify_content": null,
            "_view_module": "@jupyter-widgets/base",
            "overflow": null,
            "_model_module_version": "1.2.0",
            "_view_count": null,
            "flex_flow": null,
            "width": null,
            "min_width": null,
            "border": null,
            "align_items": null,
            "bottom": null,
            "_model_module": "@jupyter-widgets/base",
            "top": null,
            "grid_column": null,
            "overflow_y": null,
            "overflow_x": null,
            "grid_auto_flow": null,
            "grid_area": null,
            "grid_template_columns": null,
            "flex": null,
            "_model_name": "LayoutModel",
            "justify_items": null,
            "grid_row": null,
            "max_height": null,
            "align_content": null,
            "visibility": null,
            "align_self": null,
            "height": null,
            "min_height": null,
            "padding": null,
            "grid_auto_rows": null,
            "grid_gap": null,
            "max_width": null,
            "order": null,
            "_view_module_version": "1.2.0",
            "grid_template_areas": null,
            "object_position": null,
            "object_fit": null,
            "grid_auto_columns": null,
            "margin": null,
            "display": null,
            "left": null
          }
        },
        "97962543c6ba45aa96d9acd31e2024a7": {
          "model_module": "@jupyter-widgets/controls",
          "model_name": "DescriptionStyleModel",
          "state": {
            "_view_name": "StyleView",
            "_model_name": "DescriptionStyleModel",
            "description_width": "",
            "_view_module": "@jupyter-widgets/base",
            "_model_module_version": "1.5.0",
            "_view_count": null,
            "_view_module_version": "1.2.0",
            "_model_module": "@jupyter-widgets/controls"
          }
        },
        "21dd69ef3a374ef4b2141d707c9b0447": {
          "model_module": "@jupyter-widgets/base",
          "model_name": "LayoutModel",
          "state": {
            "_view_name": "LayoutView",
            "grid_template_rows": null,
            "right": null,
            "justify_content": null,
            "_view_module": "@jupyter-widgets/base",
            "overflow": null,
            "_model_module_version": "1.2.0",
            "_view_count": null,
            "flex_flow": null,
            "width": null,
            "min_width": null,
            "border": null,
            "align_items": null,
            "bottom": null,
            "_model_module": "@jupyter-widgets/base",
            "top": null,
            "grid_column": null,
            "overflow_y": null,
            "overflow_x": null,
            "grid_auto_flow": null,
            "grid_area": null,
            "grid_template_columns": null,
            "flex": null,
            "_model_name": "LayoutModel",
            "justify_items": null,
            "grid_row": null,
            "max_height": null,
            "align_content": null,
            "visibility": null,
            "align_self": null,
            "height": null,
            "min_height": null,
            "padding": null,
            "grid_auto_rows": null,
            "grid_gap": null,
            "max_width": null,
            "order": null,
            "_view_module_version": "1.2.0",
            "grid_template_areas": null,
            "object_position": null,
            "object_fit": null,
            "grid_auto_columns": null,
            "margin": null,
            "display": null,
            "left": null
          }
        },
        "f84801b926074127923fd83127c2b3bf": {
          "model_module": "@jupyter-widgets/controls",
          "model_name": "HBoxModel",
          "state": {
            "_view_name": "HBoxView",
            "_dom_classes": [],
            "_model_name": "HBoxModel",
            "_view_module": "@jupyter-widgets/controls",
            "_model_module_version": "1.5.0",
            "_view_count": null,
            "_view_module_version": "1.5.0",
            "box_style": "",
            "layout": "IPY_MODEL_91f0cf13e689417385d4af1be099a051",
            "_model_module": "@jupyter-widgets/controls",
            "children": [
              "IPY_MODEL_87026ce9011b4f22a435436740d1b943",
              "IPY_MODEL_509ba4e54be140d38e37aa5f6346eeba"
            ]
          }
        },
        "91f0cf13e689417385d4af1be099a051": {
          "model_module": "@jupyter-widgets/base",
          "model_name": "LayoutModel",
          "state": {
            "_view_name": "LayoutView",
            "grid_template_rows": null,
            "right": null,
            "justify_content": null,
            "_view_module": "@jupyter-widgets/base",
            "overflow": null,
            "_model_module_version": "1.2.0",
            "_view_count": null,
            "flex_flow": null,
            "width": null,
            "min_width": null,
            "border": null,
            "align_items": null,
            "bottom": null,
            "_model_module": "@jupyter-widgets/base",
            "top": null,
            "grid_column": null,
            "overflow_y": null,
            "overflow_x": null,
            "grid_auto_flow": null,
            "grid_area": null,
            "grid_template_columns": null,
            "flex": null,
            "_model_name": "LayoutModel",
            "justify_items": null,
            "grid_row": null,
            "max_height": null,
            "align_content": null,
            "visibility": null,
            "align_self": null,
            "height": null,
            "min_height": null,
            "padding": null,
            "grid_auto_rows": null,
            "grid_gap": null,
            "max_width": null,
            "order": null,
            "_view_module_version": "1.2.0",
            "grid_template_areas": null,
            "object_position": null,
            "object_fit": null,
            "grid_auto_columns": null,
            "margin": null,
            "display": null,
            "left": null
          }
        },
        "87026ce9011b4f22a435436740d1b943": {
          "model_module": "@jupyter-widgets/controls",
          "model_name": "FloatProgressModel",
          "state": {
            "_view_name": "ProgressView",
            "style": "IPY_MODEL_91ed12e89fe84dc99985073ecf5ed5d7",
            "_dom_classes": [],
            "description": "Preprocess ingredients: 100%",
            "_model_name": "FloatProgressModel",
            "bar_style": "success",
            "max": 27827,
            "_view_module": "@jupyter-widgets/controls",
            "_model_module_version": "1.5.0",
            "value": 27827,
            "_view_count": null,
            "_view_module_version": "1.5.0",
            "orientation": "horizontal",
            "min": 0,
            "description_tooltip": null,
            "_model_module": "@jupyter-widgets/controls",
            "layout": "IPY_MODEL_1b8fea9a239c4ca69463eca97ac721dc"
          }
        },
        "509ba4e54be140d38e37aa5f6346eeba": {
          "model_module": "@jupyter-widgets/controls",
          "model_name": "HTMLModel",
          "state": {
            "_view_name": "HTMLView",
            "style": "IPY_MODEL_13bfc37f322c4e3bb70c6f7dfb6bf9c8",
            "_dom_classes": [],
            "description": "",
            "_model_name": "HTMLModel",
            "placeholder": "​",
            "_view_module": "@jupyter-widgets/controls",
            "_model_module_version": "1.5.0",
            "value": " 27827/27827 [00:01&lt;00:00, 14554.59it/s]",
            "_view_count": null,
            "_view_module_version": "1.5.0",
            "description_tooltip": null,
            "_model_module": "@jupyter-widgets/controls",
            "layout": "IPY_MODEL_38dad5c0da334d3f94d635334a8582ad"
          }
        },
        "91ed12e89fe84dc99985073ecf5ed5d7": {
          "model_module": "@jupyter-widgets/controls",
          "model_name": "ProgressStyleModel",
          "state": {
            "_view_name": "StyleView",
            "_model_name": "ProgressStyleModel",
            "description_width": "initial",
            "_view_module": "@jupyter-widgets/base",
            "_model_module_version": "1.5.0",
            "_view_count": null,
            "_view_module_version": "1.2.0",
            "bar_color": null,
            "_model_module": "@jupyter-widgets/controls"
          }
        },
        "1b8fea9a239c4ca69463eca97ac721dc": {
          "model_module": "@jupyter-widgets/base",
          "model_name": "LayoutModel",
          "state": {
            "_view_name": "LayoutView",
            "grid_template_rows": null,
            "right": null,
            "justify_content": null,
            "_view_module": "@jupyter-widgets/base",
            "overflow": null,
            "_model_module_version": "1.2.0",
            "_view_count": null,
            "flex_flow": null,
            "width": null,
            "min_width": null,
            "border": null,
            "align_items": null,
            "bottom": null,
            "_model_module": "@jupyter-widgets/base",
            "top": null,
            "grid_column": null,
            "overflow_y": null,
            "overflow_x": null,
            "grid_auto_flow": null,
            "grid_area": null,
            "grid_template_columns": null,
            "flex": null,
            "_model_name": "LayoutModel",
            "justify_items": null,
            "grid_row": null,
            "max_height": null,
            "align_content": null,
            "visibility": null,
            "align_self": null,
            "height": null,
            "min_height": null,
            "padding": null,
            "grid_auto_rows": null,
            "grid_gap": null,
            "max_width": null,
            "order": null,
            "_view_module_version": "1.2.0",
            "grid_template_areas": null,
            "object_position": null,
            "object_fit": null,
            "grid_auto_columns": null,
            "margin": null,
            "display": null,
            "left": null
          }
        },
        "13bfc37f322c4e3bb70c6f7dfb6bf9c8": {
          "model_module": "@jupyter-widgets/controls",
          "model_name": "DescriptionStyleModel",
          "state": {
            "_view_name": "StyleView",
            "_model_name": "DescriptionStyleModel",
            "description_width": "",
            "_view_module": "@jupyter-widgets/base",
            "_model_module_version": "1.5.0",
            "_view_count": null,
            "_view_module_version": "1.2.0",
            "_model_module": "@jupyter-widgets/controls"
          }
        },
        "38dad5c0da334d3f94d635334a8582ad": {
          "model_module": "@jupyter-widgets/base",
          "model_name": "LayoutModel",
          "state": {
            "_view_name": "LayoutView",
            "grid_template_rows": null,
            "right": null,
            "justify_content": null,
            "_view_module": "@jupyter-widgets/base",
            "overflow": null,
            "_model_module_version": "1.2.0",
            "_view_count": null,
            "flex_flow": null,
            "width": null,
            "min_width": null,
            "border": null,
            "align_items": null,
            "bottom": null,
            "_model_module": "@jupyter-widgets/base",
            "top": null,
            "grid_column": null,
            "overflow_y": null,
            "overflow_x": null,
            "grid_auto_flow": null,
            "grid_area": null,
            "grid_template_columns": null,
            "flex": null,
            "_model_name": "LayoutModel",
            "justify_items": null,
            "grid_row": null,
            "max_height": null,
            "align_content": null,
            "visibility": null,
            "align_self": null,
            "height": null,
            "min_height": null,
            "padding": null,
            "grid_auto_rows": null,
            "grid_gap": null,
            "max_width": null,
            "order": null,
            "_view_module_version": "1.2.0",
            "grid_template_areas": null,
            "object_position": null,
            "object_fit": null,
            "grid_auto_columns": null,
            "margin": null,
            "display": null,
            "left": null
          }
        },
        "a6ce65dc7a034a09b648b1a67a519f6c": {
          "model_module": "@jupyter-widgets/controls",
          "model_name": "HBoxModel",
          "state": {
            "_view_name": "HBoxView",
            "_dom_classes": [],
            "_model_name": "HBoxModel",
            "_view_module": "@jupyter-widgets/controls",
            "_model_module_version": "1.5.0",
            "_view_count": null,
            "_view_module_version": "1.5.0",
            "box_style": "",
            "layout": "IPY_MODEL_2cef761dbfed4cc983ce74d21dbd0d6c",
            "_model_module": "@jupyter-widgets/controls",
            "children": [
              "IPY_MODEL_52c789b8211c43cbb7da6905ae6ab86a",
              "IPY_MODEL_df5dd80ad4f34e36a78499680d2c189b"
            ]
          }
        },
        "2cef761dbfed4cc983ce74d21dbd0d6c": {
          "model_module": "@jupyter-widgets/base",
          "model_name": "LayoutModel",
          "state": {
            "_view_name": "LayoutView",
            "grid_template_rows": null,
            "right": null,
            "justify_content": null,
            "_view_module": "@jupyter-widgets/base",
            "overflow": null,
            "_model_module_version": "1.2.0",
            "_view_count": null,
            "flex_flow": null,
            "width": null,
            "min_width": null,
            "border": null,
            "align_items": null,
            "bottom": null,
            "_model_module": "@jupyter-widgets/base",
            "top": null,
            "grid_column": null,
            "overflow_y": null,
            "overflow_x": null,
            "grid_auto_flow": null,
            "grid_area": null,
            "grid_template_columns": null,
            "flex": null,
            "_model_name": "LayoutModel",
            "justify_items": null,
            "grid_row": null,
            "max_height": null,
            "align_content": null,
            "visibility": null,
            "align_self": null,
            "height": null,
            "min_height": null,
            "padding": null,
            "grid_auto_rows": null,
            "grid_gap": null,
            "max_width": null,
            "order": null,
            "_view_module_version": "1.2.0",
            "grid_template_areas": null,
            "object_position": null,
            "object_fit": null,
            "grid_auto_columns": null,
            "margin": null,
            "display": null,
            "left": null
          }
        },
        "52c789b8211c43cbb7da6905ae6ab86a": {
          "model_module": "@jupyter-widgets/controls",
          "model_name": "FloatProgressModel",
          "state": {
            "_view_name": "ProgressView",
            "style": "IPY_MODEL_d6027c9f3242461581bd04671a3547a2",
            "_dom_classes": [],
            "description": "",
            "_model_name": "FloatProgressModel",
            "bar_style": "success",
            "max": 1,
            "_view_module": "@jupyter-widgets/controls",
            "_model_module_version": "1.5.0",
            "value": 1,
            "_view_count": null,
            "_view_module_version": "1.5.0",
            "orientation": "horizontal",
            "min": 0,
            "description_tooltip": null,
            "_model_module": "@jupyter-widgets/controls",
            "layout": "IPY_MODEL_54810d4a09db4f008fea595e84dcfa5c"
          }
        },
        "df5dd80ad4f34e36a78499680d2c189b": {
          "model_module": "@jupyter-widgets/controls",
          "model_name": "HTMLModel",
          "state": {
            "_view_name": "HTMLView",
            "style": "IPY_MODEL_607109d9f06e4baab573810f7ebbce22",
            "_dom_classes": [],
            "description": "",
            "_model_name": "HTMLModel",
            "placeholder": "​",
            "_view_module": "@jupyter-widgets/controls",
            "_model_module_version": "1.5.0",
            "value": " 19244/? [00:13&lt;00:00, 1458.01it/s]",
            "_view_count": null,
            "_view_module_version": "1.5.0",
            "description_tooltip": null,
            "_model_module": "@jupyter-widgets/controls",
            "layout": "IPY_MODEL_db515a2ad2074dd598615334066e6c73"
          }
        },
        "d6027c9f3242461581bd04671a3547a2": {
          "model_module": "@jupyter-widgets/controls",
          "model_name": "ProgressStyleModel",
          "state": {
            "_view_name": "StyleView",
            "_model_name": "ProgressStyleModel",
            "description_width": "initial",
            "_view_module": "@jupyter-widgets/base",
            "_model_module_version": "1.5.0",
            "_view_count": null,
            "_view_module_version": "1.2.0",
            "bar_color": null,
            "_model_module": "@jupyter-widgets/controls"
          }
        },
        "54810d4a09db4f008fea595e84dcfa5c": {
          "model_module": "@jupyter-widgets/base",
          "model_name": "LayoutModel",
          "state": {
            "_view_name": "LayoutView",
            "grid_template_rows": null,
            "right": null,
            "justify_content": null,
            "_view_module": "@jupyter-widgets/base",
            "overflow": null,
            "_model_module_version": "1.2.0",
            "_view_count": null,
            "flex_flow": null,
            "width": null,
            "min_width": null,
            "border": null,
            "align_items": null,
            "bottom": null,
            "_model_module": "@jupyter-widgets/base",
            "top": null,
            "grid_column": null,
            "overflow_y": null,
            "overflow_x": null,
            "grid_auto_flow": null,
            "grid_area": null,
            "grid_template_columns": null,
            "flex": null,
            "_model_name": "LayoutModel",
            "justify_items": null,
            "grid_row": null,
            "max_height": null,
            "align_content": null,
            "visibility": null,
            "align_self": null,
            "height": null,
            "min_height": null,
            "padding": null,
            "grid_auto_rows": null,
            "grid_gap": null,
            "max_width": null,
            "order": null,
            "_view_module_version": "1.2.0",
            "grid_template_areas": null,
            "object_position": null,
            "object_fit": null,
            "grid_auto_columns": null,
            "margin": null,
            "display": null,
            "left": null
          }
        },
        "607109d9f06e4baab573810f7ebbce22": {
          "model_module": "@jupyter-widgets/controls",
          "model_name": "DescriptionStyleModel",
          "state": {
            "_view_name": "StyleView",
            "_model_name": "DescriptionStyleModel",
            "description_width": "",
            "_view_module": "@jupyter-widgets/base",
            "_model_module_version": "1.5.0",
            "_view_count": null,
            "_view_module_version": "1.2.0",
            "_model_module": "@jupyter-widgets/controls"
          }
        },
        "db515a2ad2074dd598615334066e6c73": {
          "model_module": "@jupyter-widgets/base",
          "model_name": "LayoutModel",
          "state": {
            "_view_name": "LayoutView",
            "grid_template_rows": null,
            "right": null,
            "justify_content": null,
            "_view_module": "@jupyter-widgets/base",
            "overflow": null,
            "_model_module_version": "1.2.0",
            "_view_count": null,
            "flex_flow": null,
            "width": null,
            "min_width": null,
            "border": null,
            "align_items": null,
            "bottom": null,
            "_model_module": "@jupyter-widgets/base",
            "top": null,
            "grid_column": null,
            "overflow_y": null,
            "overflow_x": null,
            "grid_auto_flow": null,
            "grid_area": null,
            "grid_template_columns": null,
            "flex": null,
            "_model_name": "LayoutModel",
            "justify_items": null,
            "grid_row": null,
            "max_height": null,
            "align_content": null,
            "visibility": null,
            "align_self": null,
            "height": null,
            "min_height": null,
            "padding": null,
            "grid_auto_rows": null,
            "grid_gap": null,
            "max_width": null,
            "order": null,
            "_view_module_version": "1.2.0",
            "grid_template_areas": null,
            "object_position": null,
            "object_fit": null,
            "grid_auto_columns": null,
            "margin": null,
            "display": null,
            "left": null
          }
        },
        "042d616e745a4ff789f417070714ea4b": {
          "model_module": "@jupyter-widgets/controls",
          "model_name": "HBoxModel",
          "state": {
            "_view_name": "HBoxView",
            "_dom_classes": [],
            "_model_name": "HBoxModel",
            "_view_module": "@jupyter-widgets/controls",
            "_model_module_version": "1.5.0",
            "_view_count": null,
            "_view_module_version": "1.5.0",
            "box_style": "",
            "layout": "IPY_MODEL_f948af496ab3461c97634850547cd839",
            "_model_module": "@jupyter-widgets/controls",
            "children": [
              "IPY_MODEL_a7bd81041d744e31be59e141935b3b96",
              "IPY_MODEL_05817d87d2f34f07a31c098b63fd9d13"
            ]
          }
        },
        "f948af496ab3461c97634850547cd839": {
          "model_module": "@jupyter-widgets/base",
          "model_name": "LayoutModel",
          "state": {
            "_view_name": "LayoutView",
            "grid_template_rows": null,
            "right": null,
            "justify_content": null,
            "_view_module": "@jupyter-widgets/base",
            "overflow": null,
            "_model_module_version": "1.2.0",
            "_view_count": null,
            "flex_flow": null,
            "width": null,
            "min_width": null,
            "border": null,
            "align_items": null,
            "bottom": null,
            "_model_module": "@jupyter-widgets/base",
            "top": null,
            "grid_column": null,
            "overflow_y": null,
            "overflow_x": null,
            "grid_auto_flow": null,
            "grid_area": null,
            "grid_template_columns": null,
            "flex": null,
            "_model_name": "LayoutModel",
            "justify_items": null,
            "grid_row": null,
            "max_height": null,
            "align_content": null,
            "visibility": null,
            "align_self": null,
            "height": null,
            "min_height": null,
            "padding": null,
            "grid_auto_rows": null,
            "grid_gap": null,
            "max_width": null,
            "order": null,
            "_view_module_version": "1.2.0",
            "grid_template_areas": null,
            "object_position": null,
            "object_fit": null,
            "grid_auto_columns": null,
            "margin": null,
            "display": null,
            "left": null
          }
        },
        "a7bd81041d744e31be59e141935b3b96": {
          "model_module": "@jupyter-widgets/controls",
          "model_name": "FloatProgressModel",
          "state": {
            "_view_name": "ProgressView",
            "style": "IPY_MODEL_088a60d6ac6a4f29a5dc4e73fea06a7b",
            "_dom_classes": [],
            "description": "100%",
            "_model_name": "FloatProgressModel",
            "bar_style": "success",
            "max": 27827,
            "_view_module": "@jupyter-widgets/controls",
            "_model_module_version": "1.5.0",
            "value": 27827,
            "_view_count": null,
            "_view_module_version": "1.5.0",
            "orientation": "horizontal",
            "min": 0,
            "description_tooltip": null,
            "_model_module": "@jupyter-widgets/controls",
            "layout": "IPY_MODEL_7858df82e672463eada31bc8868dca44"
          }
        },
        "05817d87d2f34f07a31c098b63fd9d13": {
          "model_module": "@jupyter-widgets/controls",
          "model_name": "HTMLModel",
          "state": {
            "_view_name": "HTMLView",
            "style": "IPY_MODEL_0ceedce9a7744fdb98b123f2c5f43879",
            "_dom_classes": [],
            "description": "",
            "_model_name": "HTMLModel",
            "placeholder": "​",
            "_view_module": "@jupyter-widgets/controls",
            "_model_module_version": "1.5.0",
            "value": " 27827/27827 [02:57&lt;00:00, 157.14it/s]",
            "_view_count": null,
            "_view_module_version": "1.5.0",
            "description_tooltip": null,
            "_model_module": "@jupyter-widgets/controls",
            "layout": "IPY_MODEL_10a470abf4e448babe7e9032e712b952"
          }
        },
        "088a60d6ac6a4f29a5dc4e73fea06a7b": {
          "model_module": "@jupyter-widgets/controls",
          "model_name": "ProgressStyleModel",
          "state": {
            "_view_name": "StyleView",
            "_model_name": "ProgressStyleModel",
            "description_width": "initial",
            "_view_module": "@jupyter-widgets/base",
            "_model_module_version": "1.5.0",
            "_view_count": null,
            "_view_module_version": "1.2.0",
            "bar_color": null,
            "_model_module": "@jupyter-widgets/controls"
          }
        },
        "7858df82e672463eada31bc8868dca44": {
          "model_module": "@jupyter-widgets/base",
          "model_name": "LayoutModel",
          "state": {
            "_view_name": "LayoutView",
            "grid_template_rows": null,
            "right": null,
            "justify_content": null,
            "_view_module": "@jupyter-widgets/base",
            "overflow": null,
            "_model_module_version": "1.2.0",
            "_view_count": null,
            "flex_flow": null,
            "width": null,
            "min_width": null,
            "border": null,
            "align_items": null,
            "bottom": null,
            "_model_module": "@jupyter-widgets/base",
            "top": null,
            "grid_column": null,
            "overflow_y": null,
            "overflow_x": null,
            "grid_auto_flow": null,
            "grid_area": null,
            "grid_template_columns": null,
            "flex": null,
            "_model_name": "LayoutModel",
            "justify_items": null,
            "grid_row": null,
            "max_height": null,
            "align_content": null,
            "visibility": null,
            "align_self": null,
            "height": null,
            "min_height": null,
            "padding": null,
            "grid_auto_rows": null,
            "grid_gap": null,
            "max_width": null,
            "order": null,
            "_view_module_version": "1.2.0",
            "grid_template_areas": null,
            "object_position": null,
            "object_fit": null,
            "grid_auto_columns": null,
            "margin": null,
            "display": null,
            "left": null
          }
        },
        "0ceedce9a7744fdb98b123f2c5f43879": {
          "model_module": "@jupyter-widgets/controls",
          "model_name": "DescriptionStyleModel",
          "state": {
            "_view_name": "StyleView",
            "_model_name": "DescriptionStyleModel",
            "description_width": "",
            "_view_module": "@jupyter-widgets/base",
            "_model_module_version": "1.5.0",
            "_view_count": null,
            "_view_module_version": "1.2.0",
            "_model_module": "@jupyter-widgets/controls"
          }
        },
        "10a470abf4e448babe7e9032e712b952": {
          "model_module": "@jupyter-widgets/base",
          "model_name": "LayoutModel",
          "state": {
            "_view_name": "LayoutView",
            "grid_template_rows": null,
            "right": null,
            "justify_content": null,
            "_view_module": "@jupyter-widgets/base",
            "overflow": null,
            "_model_module_version": "1.2.0",
            "_view_count": null,
            "flex_flow": null,
            "width": null,
            "min_width": null,
            "border": null,
            "align_items": null,
            "bottom": null,
            "_model_module": "@jupyter-widgets/base",
            "top": null,
            "grid_column": null,
            "overflow_y": null,
            "overflow_x": null,
            "grid_auto_flow": null,
            "grid_area": null,
            "grid_template_columns": null,
            "flex": null,
            "_model_name": "LayoutModel",
            "justify_items": null,
            "grid_row": null,
            "max_height": null,
            "align_content": null,
            "visibility": null,
            "align_self": null,
            "height": null,
            "min_height": null,
            "padding": null,
            "grid_auto_rows": null,
            "grid_gap": null,
            "max_width": null,
            "order": null,
            "_view_module_version": "1.2.0",
            "grid_template_areas": null,
            "object_position": null,
            "object_fit": null,
            "grid_auto_columns": null,
            "margin": null,
            "display": null,
            "left": null
          }
        },
        "5a8bab8f5acd4b009e0e349599b35900": {
          "model_module": "@jupyter-widgets/controls",
          "model_name": "HBoxModel",
          "state": {
            "_view_name": "HBoxView",
            "_dom_classes": [],
            "_model_name": "HBoxModel",
            "_view_module": "@jupyter-widgets/controls",
            "_model_module_version": "1.5.0",
            "_view_count": null,
            "_view_module_version": "1.5.0",
            "box_style": "",
            "layout": "IPY_MODEL_7a43d862aea54594bd54b57b96c88fce",
            "_model_module": "@jupyter-widgets/controls",
            "children": [
              "IPY_MODEL_a4a95001cb6f435c9338001a4d662e1a",
              "IPY_MODEL_0c256c676fb44c2fa58d91c3ab0c3632"
            ]
          }
        },
        "7a43d862aea54594bd54b57b96c88fce": {
          "model_module": "@jupyter-widgets/base",
          "model_name": "LayoutModel",
          "state": {
            "_view_name": "LayoutView",
            "grid_template_rows": null,
            "right": null,
            "justify_content": null,
            "_view_module": "@jupyter-widgets/base",
            "overflow": null,
            "_model_module_version": "1.2.0",
            "_view_count": null,
            "flex_flow": null,
            "width": null,
            "min_width": null,
            "border": null,
            "align_items": null,
            "bottom": null,
            "_model_module": "@jupyter-widgets/base",
            "top": null,
            "grid_column": null,
            "overflow_y": null,
            "overflow_x": null,
            "grid_auto_flow": null,
            "grid_area": null,
            "grid_template_columns": null,
            "flex": null,
            "_model_name": "LayoutModel",
            "justify_items": null,
            "grid_row": null,
            "max_height": null,
            "align_content": null,
            "visibility": null,
            "align_self": null,
            "height": null,
            "min_height": null,
            "padding": null,
            "grid_auto_rows": null,
            "grid_gap": null,
            "max_width": null,
            "order": null,
            "_view_module_version": "1.2.0",
            "grid_template_areas": null,
            "object_position": null,
            "object_fit": null,
            "grid_auto_columns": null,
            "margin": null,
            "display": null,
            "left": null
          }
        },
        "a4a95001cb6f435c9338001a4d662e1a": {
          "model_module": "@jupyter-widgets/controls",
          "model_name": "FloatProgressModel",
          "state": {
            "_view_name": "ProgressView",
            "style": "IPY_MODEL_8cc5e90b8aba4a27acb88f5b3d225fa7",
            "_dom_classes": [],
            "description": "100%",
            "_model_name": "FloatProgressModel",
            "bar_style": "success",
            "max": 102502400,
            "_view_module": "@jupyter-widgets/controls",
            "_model_module_version": "1.5.0",
            "value": 102502400,
            "_view_count": null,
            "_view_module_version": "1.5.0",
            "orientation": "horizontal",
            "min": 0,
            "description_tooltip": null,
            "_model_module": "@jupyter-widgets/controls",
            "layout": "IPY_MODEL_ead032b5321e4e8eb51de36bf9372289"
          }
        },
        "0c256c676fb44c2fa58d91c3ab0c3632": {
          "model_module": "@jupyter-widgets/controls",
          "model_name": "HTMLModel",
          "state": {
            "_view_name": "HTMLView",
            "style": "IPY_MODEL_8b0add374db2484e88051b9f0c284cbb",
            "_dom_classes": [],
            "description": "",
            "_model_name": "HTMLModel",
            "placeholder": "​",
            "_view_module": "@jupyter-widgets/controls",
            "_model_module_version": "1.5.0",
            "value": " 97.8M/97.8M [05:34&lt;00:00, 307kB/s]",
            "_view_count": null,
            "_view_module_version": "1.5.0",
            "description_tooltip": null,
            "_model_module": "@jupyter-widgets/controls",
            "layout": "IPY_MODEL_7e2a1c70876b464a8cc2461bbe0b6a3b"
          }
        },
        "8cc5e90b8aba4a27acb88f5b3d225fa7": {
          "model_module": "@jupyter-widgets/controls",
          "model_name": "ProgressStyleModel",
          "state": {
            "_view_name": "StyleView",
            "_model_name": "ProgressStyleModel",
            "description_width": "initial",
            "_view_module": "@jupyter-widgets/base",
            "_model_module_version": "1.5.0",
            "_view_count": null,
            "_view_module_version": "1.2.0",
            "bar_color": null,
            "_model_module": "@jupyter-widgets/controls"
          }
        },
        "ead032b5321e4e8eb51de36bf9372289": {
          "model_module": "@jupyter-widgets/base",
          "model_name": "LayoutModel",
          "state": {
            "_view_name": "LayoutView",
            "grid_template_rows": null,
            "right": null,
            "justify_content": null,
            "_view_module": "@jupyter-widgets/base",
            "overflow": null,
            "_model_module_version": "1.2.0",
            "_view_count": null,
            "flex_flow": null,
            "width": null,
            "min_width": null,
            "border": null,
            "align_items": null,
            "bottom": null,
            "_model_module": "@jupyter-widgets/base",
            "top": null,
            "grid_column": null,
            "overflow_y": null,
            "overflow_x": null,
            "grid_auto_flow": null,
            "grid_area": null,
            "grid_template_columns": null,
            "flex": null,
            "_model_name": "LayoutModel",
            "justify_items": null,
            "grid_row": null,
            "max_height": null,
            "align_content": null,
            "visibility": null,
            "align_self": null,
            "height": null,
            "min_height": null,
            "padding": null,
            "grid_auto_rows": null,
            "grid_gap": null,
            "max_width": null,
            "order": null,
            "_view_module_version": "1.2.0",
            "grid_template_areas": null,
            "object_position": null,
            "object_fit": null,
            "grid_auto_columns": null,
            "margin": null,
            "display": null,
            "left": null
          }
        },
        "8b0add374db2484e88051b9f0c284cbb": {
          "model_module": "@jupyter-widgets/controls",
          "model_name": "DescriptionStyleModel",
          "state": {
            "_view_name": "StyleView",
            "_model_name": "DescriptionStyleModel",
            "description_width": "",
            "_view_module": "@jupyter-widgets/base",
            "_model_module_version": "1.5.0",
            "_view_count": null,
            "_view_module_version": "1.2.0",
            "_model_module": "@jupyter-widgets/controls"
          }
        },
        "7e2a1c70876b464a8cc2461bbe0b6a3b": {
          "model_module": "@jupyter-widgets/base",
          "model_name": "LayoutModel",
          "state": {
            "_view_name": "LayoutView",
            "grid_template_rows": null,
            "right": null,
            "justify_content": null,
            "_view_module": "@jupyter-widgets/base",
            "overflow": null,
            "_model_module_version": "1.2.0",
            "_view_count": null,
            "flex_flow": null,
            "width": null,
            "min_width": null,
            "border": null,
            "align_items": null,
            "bottom": null,
            "_model_module": "@jupyter-widgets/base",
            "top": null,
            "grid_column": null,
            "overflow_y": null,
            "overflow_x": null,
            "grid_auto_flow": null,
            "grid_area": null,
            "grid_template_columns": null,
            "flex": null,
            "_model_name": "LayoutModel",
            "justify_items": null,
            "grid_row": null,
            "max_height": null,
            "align_content": null,
            "visibility": null,
            "align_self": null,
            "height": null,
            "min_height": null,
            "padding": null,
            "grid_auto_rows": null,
            "grid_gap": null,
            "max_width": null,
            "order": null,
            "_view_module_version": "1.2.0",
            "grid_template_areas": null,
            "object_position": null,
            "object_fit": null,
            "grid_auto_columns": null,
            "margin": null,
            "display": null,
            "left": null
          }
        },
        "c269ad4221704568a29956977f46d59f": {
          "model_module": "@jupyter-widgets/controls",
          "model_name": "HBoxModel",
          "state": {
            "_view_name": "HBoxView",
            "_dom_classes": [],
            "_model_name": "HBoxModel",
            "_view_module": "@jupyter-widgets/controls",
            "_model_module_version": "1.5.0",
            "_view_count": null,
            "_view_module_version": "1.5.0",
            "box_style": "",
            "layout": "IPY_MODEL_472096dc82e04719a9429898e123379a",
            "_model_module": "@jupyter-widgets/controls",
            "children": [
              "IPY_MODEL_41e5dae6e7e74d1a84d232adb336e464",
              "IPY_MODEL_94ebd374bf7b4941a759f89235a92553"
            ]
          }
        },
        "472096dc82e04719a9429898e123379a": {
          "model_module": "@jupyter-widgets/base",
          "model_name": "LayoutModel",
          "state": {
            "_view_name": "LayoutView",
            "grid_template_rows": null,
            "right": null,
            "justify_content": null,
            "_view_module": "@jupyter-widgets/base",
            "overflow": null,
            "_model_module_version": "1.2.0",
            "_view_count": null,
            "flex_flow": null,
            "width": null,
            "min_width": null,
            "border": null,
            "align_items": null,
            "bottom": null,
            "_model_module": "@jupyter-widgets/base",
            "top": null,
            "grid_column": null,
            "overflow_y": null,
            "overflow_x": null,
            "grid_auto_flow": null,
            "grid_area": null,
            "grid_template_columns": null,
            "flex": null,
            "_model_name": "LayoutModel",
            "justify_items": null,
            "grid_row": null,
            "max_height": null,
            "align_content": null,
            "visibility": null,
            "align_self": null,
            "height": null,
            "min_height": null,
            "padding": null,
            "grid_auto_rows": null,
            "grid_gap": null,
            "max_width": null,
            "order": null,
            "_view_module_version": "1.2.0",
            "grid_template_areas": null,
            "object_position": null,
            "object_fit": null,
            "grid_auto_columns": null,
            "margin": null,
            "display": null,
            "left": null
          }
        },
        "41e5dae6e7e74d1a84d232adb336e464": {
          "model_module": "@jupyter-widgets/controls",
          "model_name": "FloatProgressModel",
          "state": {
            "_view_name": "ProgressView",
            "style": "IPY_MODEL_5754ba1f5ccd4fd4a4eeb0ca50342ea1",
            "_dom_classes": [],
            "description": "Обучение:  85%",
            "_model_name": "FloatProgressModel",
            "bar_style": "",
            "max": 728,
            "_view_module": "@jupyter-widgets/controls",
            "_model_module_version": "1.5.0",
            "value": 619,
            "_view_count": null,
            "_view_module_version": "1.5.0",
            "orientation": "horizontal",
            "min": 0,
            "description_tooltip": null,
            "_model_module": "@jupyter-widgets/controls",
            "layout": "IPY_MODEL_070c1bce560b4217a352516578ebd04b"
          }
        },
        "94ebd374bf7b4941a759f89235a92553": {
          "model_module": "@jupyter-widgets/controls",
          "model_name": "HTMLModel",
          "state": {
            "_view_name": "HTMLView",
            "style": "IPY_MODEL_e0c0e95b7fe04538a583b4ab93499ecc",
            "_dom_classes": [],
            "description": "",
            "_model_name": "HTMLModel",
            "placeholder": "​",
            "_view_module": "@jupyter-widgets/controls",
            "_model_module_version": "1.5.0",
            "value": " 619/728 [05:50&lt;00:59,  1.84it/s]",
            "_view_count": null,
            "_view_module_version": "1.5.0",
            "description_tooltip": null,
            "_model_module": "@jupyter-widgets/controls",
            "layout": "IPY_MODEL_72e59bae5cc2479e9a5d48df4f24f478"
          }
        },
        "5754ba1f5ccd4fd4a4eeb0ca50342ea1": {
          "model_module": "@jupyter-widgets/controls",
          "model_name": "ProgressStyleModel",
          "state": {
            "_view_name": "StyleView",
            "_model_name": "ProgressStyleModel",
            "description_width": "initial",
            "_view_module": "@jupyter-widgets/base",
            "_model_module_version": "1.5.0",
            "_view_count": null,
            "_view_module_version": "1.2.0",
            "bar_color": null,
            "_model_module": "@jupyter-widgets/controls"
          }
        },
        "070c1bce560b4217a352516578ebd04b": {
          "model_module": "@jupyter-widgets/base",
          "model_name": "LayoutModel",
          "state": {
            "_view_name": "LayoutView",
            "grid_template_rows": null,
            "right": null,
            "justify_content": null,
            "_view_module": "@jupyter-widgets/base",
            "overflow": null,
            "_model_module_version": "1.2.0",
            "_view_count": null,
            "flex_flow": null,
            "width": null,
            "min_width": null,
            "border": null,
            "align_items": null,
            "bottom": null,
            "_model_module": "@jupyter-widgets/base",
            "top": null,
            "grid_column": null,
            "overflow_y": null,
            "overflow_x": null,
            "grid_auto_flow": null,
            "grid_area": null,
            "grid_template_columns": null,
            "flex": null,
            "_model_name": "LayoutModel",
            "justify_items": null,
            "grid_row": null,
            "max_height": null,
            "align_content": null,
            "visibility": null,
            "align_self": null,
            "height": null,
            "min_height": null,
            "padding": null,
            "grid_auto_rows": null,
            "grid_gap": null,
            "max_width": null,
            "order": null,
            "_view_module_version": "1.2.0",
            "grid_template_areas": null,
            "object_position": null,
            "object_fit": null,
            "grid_auto_columns": null,
            "margin": null,
            "display": null,
            "left": null
          }
        },
        "e0c0e95b7fe04538a583b4ab93499ecc": {
          "model_module": "@jupyter-widgets/controls",
          "model_name": "DescriptionStyleModel",
          "state": {
            "_view_name": "StyleView",
            "_model_name": "DescriptionStyleModel",
            "description_width": "",
            "_view_module": "@jupyter-widgets/base",
            "_model_module_version": "1.5.0",
            "_view_count": null,
            "_view_module_version": "1.2.0",
            "_model_module": "@jupyter-widgets/controls"
          }
        },
        "72e59bae5cc2479e9a5d48df4f24f478": {
          "model_module": "@jupyter-widgets/base",
          "model_name": "LayoutModel",
          "state": {
            "_view_name": "LayoutView",
            "grid_template_rows": null,
            "right": null,
            "justify_content": null,
            "_view_module": "@jupyter-widgets/base",
            "overflow": null,
            "_model_module_version": "1.2.0",
            "_view_count": null,
            "flex_flow": null,
            "width": null,
            "min_width": null,
            "border": null,
            "align_items": null,
            "bottom": null,
            "_model_module": "@jupyter-widgets/base",
            "top": null,
            "grid_column": null,
            "overflow_y": null,
            "overflow_x": null,
            "grid_auto_flow": null,
            "grid_area": null,
            "grid_template_columns": null,
            "flex": null,
            "_model_name": "LayoutModel",
            "justify_items": null,
            "grid_row": null,
            "max_height": null,
            "align_content": null,
            "visibility": null,
            "align_self": null,
            "height": null,
            "min_height": null,
            "padding": null,
            "grid_auto_rows": null,
            "grid_gap": null,
            "max_width": null,
            "order": null,
            "_view_module_version": "1.2.0",
            "grid_template_areas": null,
            "object_position": null,
            "object_fit": null,
            "grid_auto_columns": null,
            "margin": null,
            "display": null,
            "left": null
          }
        }
      }
    }
  },
  "cells": [
    {
      "cell_type": "markdown",
      "metadata": {
        "id": "view-in-github",
        "colab_type": "text"
      },
      "source": [
        "<a href=\"https://colab.research.google.com/github/Alenush/dish_id_sirius/blob/Team-1/chefnet_experiments.ipynb\" target=\"_parent\"><img src=\"https://colab.research.google.com/assets/colab-badge.svg\" alt=\"Open In Colab\"/></a>"
      ]
    },
    {
      "cell_type": "markdown",
      "metadata": {
        "id": "kFPKxwZqwsh-",
        "colab_type": "text"
      },
      "source": [
        "## Загрузка данных"
      ]
    },
    {
      "cell_type": "code",
      "metadata": {
        "id": "H6DAb_XCjGNY",
        "colab_type": "code",
        "colab": {
          "base_uri": "https://localhost:8080/",
          "height": 186
        },
        "outputId": "8374c4bc-7c5e-422a-fd3a-75199131c749"
      },
      "source": [
        "!pip install gdown"
      ],
      "execution_count": 1,
      "outputs": [
        {
          "output_type": "stream",
          "text": [
            "Requirement already satisfied: gdown in /usr/local/lib/python3.6/dist-packages (3.6.4)\n",
            "Requirement already satisfied: tqdm in /usr/local/lib/python3.6/dist-packages (from gdown) (4.41.1)\n",
            "Requirement already satisfied: six in /usr/local/lib/python3.6/dist-packages (from gdown) (1.12.0)\n",
            "Requirement already satisfied: requests in /usr/local/lib/python3.6/dist-packages (from gdown) (2.23.0)\n",
            "Requirement already satisfied: urllib3!=1.25.0,!=1.25.1,<1.26,>=1.21.1 in /usr/local/lib/python3.6/dist-packages (from requests->gdown) (1.24.3)\n",
            "Requirement already satisfied: idna<3,>=2.5 in /usr/local/lib/python3.6/dist-packages (from requests->gdown) (2.9)\n",
            "Requirement already satisfied: chardet<4,>=3.0.2 in /usr/local/lib/python3.6/dist-packages (from requests->gdown) (3.0.4)\n",
            "Requirement already satisfied: certifi>=2017.4.17 in /usr/local/lib/python3.6/dist-packages (from requests->gdown) (2020.6.20)\n"
          ],
          "name": "stdout"
        }
      ]
    },
    {
      "cell_type": "markdown",
      "metadata": {
        "id": "hNOA0ZRAmir7",
        "colab_type": "text"
      },
      "source": [
        "### Загрузка картинок"
      ]
    },
    {
      "cell_type": "code",
      "metadata": {
        "id": "uu7zz9CHjNR1",
        "colab_type": "code",
        "colab": {
          "base_uri": "https://localhost:8080/",
          "height": 91
        },
        "outputId": "bd7891c6-7ba6-409e-a961-4a01c4ff252a"
      },
      "source": [
        "!gdown https://drive.google.com/uc?id=1rN0yvtlHkDbhHWRjp104FQuCyl9BAZuC\n",
        "!unzip -qq AllRecipes_images.zip \n",
        "!rm AllRecipes_images.zip"
      ],
      "execution_count": 2,
      "outputs": [
        {
          "output_type": "stream",
          "text": [
            "Downloading...\n",
            "From: https://drive.google.com/uc?id=1rN0yvtlHkDbhHWRjp104FQuCyl9BAZuC\n",
            "To: /content/AllRecipes_images.zip\n",
            "3.70GB [01:26, 42.9MB/s]\n"
          ],
          "name": "stdout"
        }
      ]
    },
    {
      "cell_type": "code",
      "metadata": {
        "id": "hrPj9qVVlmcX",
        "colab_type": "code",
        "colab": {
          "base_uri": "https://localhost:8080/",
          "height": 36
        },
        "outputId": "7b648aaf-1679-4679-aac0-f16152777df7"
      },
      "source": [
        "import os\n",
        "print(f\"Всего картинок - {len(os.listdir('./AllRecipes_images'))}\")"
      ],
      "execution_count": 3,
      "outputs": [
        {
          "output_type": "stream",
          "text": [
            "Всего картинок - 187047\n"
          ],
          "name": "stdout"
        }
      ]
    },
    {
      "cell_type": "markdown",
      "metadata": {
        "id": "mW0JPRKQmlBH",
        "colab_type": "text"
      },
      "source": [
        "### Загрузка ингредиентов блюд"
      ]
    },
    {
      "cell_type": "code",
      "metadata": {
        "id": "jCEB3doVkodg",
        "colab_type": "code",
        "colab": {
          "base_uri": "https://localhost:8080/",
          "height": 91
        },
        "outputId": "04011a83-a46a-47cf-e5cf-3c99ee7a7863"
      },
      "source": [
        "!gdown https://drive.google.com/uc?id=1rNb_CqMtA0lx-JzOxWhyM204SGQ0s5qJ\n",
        "!mkdir AllRecipes_ingred\n",
        "!unzip -qq db.zip -d AllRecipes_ingred\n",
        "!rm db.zip"
      ],
      "execution_count": 4,
      "outputs": [
        {
          "output_type": "stream",
          "text": [
            "Downloading...\n",
            "From: https://drive.google.com/uc?id=1rNb_CqMtA0lx-JzOxWhyM204SGQ0s5qJ\n",
            "To: /content/db.zip\n",
            "13.5MB [00:00, 22.0MB/s]\n"
          ],
          "name": "stdout"
        }
      ]
    },
    {
      "cell_type": "markdown",
      "metadata": {
        "id": "OpHGyYIqm1Aa",
        "colab_type": "text"
      },
      "source": [
        "### MongoDB"
      ]
    },
    {
      "cell_type": "code",
      "metadata": {
        "id": "GNLkuVUXmg28",
        "colab_type": "code",
        "colab": {
          "base_uri": "https://localhost:8080/",
          "height": 1000
        },
        "outputId": "0c5ac3c2-d7be-4cfc-ac35-e882974d5df8"
      },
      "source": [
        "!python -m pip install pymongo==3.7.2\n",
        "!apt install mongodb"
      ],
      "execution_count": 5,
      "outputs": [
        {
          "output_type": "stream",
          "text": [
            "Collecting pymongo==3.7.2\n",
            "\u001b[?25l  Downloading https://files.pythonhosted.org/packages/b1/45/5440555b901a8416196fbf2499c4678ef74de8080c007104107a8cfdda20/pymongo-3.7.2-cp36-cp36m-manylinux1_x86_64.whl (408kB)\n",
            "\u001b[K     |████████████████████████████████| 409kB 2.8MB/s \n",
            "\u001b[?25hInstalling collected packages: pymongo\n",
            "  Found existing installation: pymongo 3.10.1\n",
            "    Uninstalling pymongo-3.10.1:\n",
            "      Successfully uninstalled pymongo-3.10.1\n",
            "Successfully installed pymongo-3.7.2\n",
            "Reading package lists... Done\n",
            "Building dependency tree       \n",
            "Reading state information... Done\n",
            "The following package was automatically installed and is no longer required:\n",
            "  libnvidia-common-440\n",
            "Use 'apt autoremove' to remove it.\n",
            "The following additional packages will be installed:\n",
            "  libpcap0.8 libstemmer0d libyaml-cpp0.5v5 mongo-tools mongodb-clients\n",
            "  mongodb-server mongodb-server-core\n",
            "The following NEW packages will be installed:\n",
            "  libpcap0.8 libstemmer0d libyaml-cpp0.5v5 mongo-tools mongodb mongodb-clients\n",
            "  mongodb-server mongodb-server-core\n",
            "0 upgraded, 8 newly installed, 0 to remove and 33 not upgraded.\n",
            "Need to get 53.1 MB of archives.\n",
            "After this operation, 215 MB of additional disk space will be used.\n",
            "Get:1 http://archive.ubuntu.com/ubuntu bionic-updates/main amd64 libpcap0.8 amd64 1.8.1-6ubuntu1.18.04.1 [118 kB]\n",
            "Get:2 http://archive.ubuntu.com/ubuntu bionic/main amd64 libstemmer0d amd64 0+svn585-1build1 [62.5 kB]\n",
            "Get:3 http://archive.ubuntu.com/ubuntu bionic/universe amd64 libyaml-cpp0.5v5 amd64 0.5.2-4ubuntu1 [150 kB]\n",
            "Get:4 http://archive.ubuntu.com/ubuntu bionic/universe amd64 mongo-tools amd64 3.6.3-0ubuntu1 [12.3 MB]\n",
            "Get:5 http://archive.ubuntu.com/ubuntu bionic-updates/universe amd64 mongodb-clients amd64 1:3.6.3-0ubuntu1.1 [20.2 MB]\n",
            "Get:6 http://archive.ubuntu.com/ubuntu bionic-updates/universe amd64 mongodb-server-core amd64 1:3.6.3-0ubuntu1.1 [20.3 MB]\n",
            "Get:7 http://archive.ubuntu.com/ubuntu bionic-updates/universe amd64 mongodb-server all 1:3.6.3-0ubuntu1.1 [12.6 kB]\n",
            "Get:8 http://archive.ubuntu.com/ubuntu bionic-updates/universe amd64 mongodb amd64 1:3.6.3-0ubuntu1.1 [9,968 B]\n",
            "Fetched 53.1 MB in 7s (7,162 kB/s)\n",
            "Selecting previously unselected package libpcap0.8:amd64.\n",
            "(Reading database ... 144379 files and directories currently installed.)\n",
            "Preparing to unpack .../0-libpcap0.8_1.8.1-6ubuntu1.18.04.1_amd64.deb ...\n",
            "Unpacking libpcap0.8:amd64 (1.8.1-6ubuntu1.18.04.1) ...\n",
            "Selecting previously unselected package libstemmer0d:amd64.\n",
            "Preparing to unpack .../1-libstemmer0d_0+svn585-1build1_amd64.deb ...\n",
            "Unpacking libstemmer0d:amd64 (0+svn585-1build1) ...\n",
            "Selecting previously unselected package libyaml-cpp0.5v5:amd64.\n",
            "Preparing to unpack .../2-libyaml-cpp0.5v5_0.5.2-4ubuntu1_amd64.deb ...\n",
            "Unpacking libyaml-cpp0.5v5:amd64 (0.5.2-4ubuntu1) ...\n",
            "Selecting previously unselected package mongo-tools.\n",
            "Preparing to unpack .../3-mongo-tools_3.6.3-0ubuntu1_amd64.deb ...\n",
            "Unpacking mongo-tools (3.6.3-0ubuntu1) ...\n",
            "Selecting previously unselected package mongodb-clients.\n",
            "Preparing to unpack .../4-mongodb-clients_1%3a3.6.3-0ubuntu1.1_amd64.deb ...\n",
            "Unpacking mongodb-clients (1:3.6.3-0ubuntu1.1) ...\n",
            "Selecting previously unselected package mongodb-server-core.\n",
            "Preparing to unpack .../5-mongodb-server-core_1%3a3.6.3-0ubuntu1.1_amd64.deb ...\n",
            "Unpacking mongodb-server-core (1:3.6.3-0ubuntu1.1) ...\n",
            "Selecting previously unselected package mongodb-server.\n",
            "Preparing to unpack .../6-mongodb-server_1%3a3.6.3-0ubuntu1.1_all.deb ...\n",
            "Unpacking mongodb-server (1:3.6.3-0ubuntu1.1) ...\n",
            "Selecting previously unselected package mongodb.\n",
            "Preparing to unpack .../7-mongodb_1%3a3.6.3-0ubuntu1.1_amd64.deb ...\n",
            "Unpacking mongodb (1:3.6.3-0ubuntu1.1) ...\n",
            "Setting up libstemmer0d:amd64 (0+svn585-1build1) ...\n",
            "Setting up libyaml-cpp0.5v5:amd64 (0.5.2-4ubuntu1) ...\n",
            "Setting up mongodb-server-core (1:3.6.3-0ubuntu1.1) ...\n",
            "Setting up libpcap0.8:amd64 (1.8.1-6ubuntu1.18.04.1) ...\n",
            "Setting up mongodb-clients (1:3.6.3-0ubuntu1.1) ...\n",
            "Setting up mongodb-server (1:3.6.3-0ubuntu1.1) ...\n",
            "invoke-rc.d: could not determine current runlevel\n",
            "invoke-rc.d: policy-rc.d denied execution of start.\n",
            "Created symlink /etc/systemd/system/multi-user.target.wants/mongodb.service → /lib/systemd/system/mongodb.service.\n",
            "Setting up mongo-tools (3.6.3-0ubuntu1) ...\n",
            "Setting up mongodb (1:3.6.3-0ubuntu1.1) ...\n",
            "Processing triggers for systemd (237-3ubuntu10.41) ...\n",
            "Processing triggers for man-db (2.8.3-2ubuntu0.1) ...\n",
            "Processing triggers for libc-bin (2.27-3ubuntu1) ...\n",
            "/sbin/ldconfig.real: /usr/local/lib/python3.6/dist-packages/ideep4py/lib/libmkldnn.so.0 is not a symbolic link\n",
            "\n"
          ],
          "name": "stdout"
        }
      ]
    },
    {
      "cell_type": "code",
      "metadata": {
        "id": "ZgDBbAK3oeIz",
        "colab_type": "code",
        "colab": {
          "base_uri": "https://localhost:8080/",
          "height": 73
        },
        "outputId": "8a4b6667-cf08-418e-f979-da55e3106d38"
      },
      "source": [
        "!mongod --dbpath AllRecipes_ingred/db --fork --logpath /var/log/mongod.log"
      ],
      "execution_count": 6,
      "outputs": [
        {
          "output_type": "stream",
          "text": [
            "about to fork child process, waiting until server is ready for connections.\n",
            "forked process: 641\n",
            "child process started successfully, parent exiting\n"
          ],
          "name": "stdout"
        }
      ]
    },
    {
      "cell_type": "code",
      "metadata": {
        "id": "kEhr9IXBxVNy",
        "colab_type": "code",
        "colab": {}
      },
      "source": [
        "from pymongo import MongoClient\n",
        "from bson import json_util\n",
        "import json"
      ],
      "execution_count": 7,
      "outputs": []
    },
    {
      "cell_type": "code",
      "metadata": {
        "id": "5cq99Otv4bkn",
        "colab_type": "code",
        "colab": {
          "base_uri": "https://localhost:8080/",
          "height": 36
        },
        "outputId": "93c94b13-f66c-4825-b3d1-e7db0479aadf"
      },
      "source": [
        "db_client = MongoClient('localhost', 27017)\n",
        "recipe_db = db_client['allrecipes']['recipe_data']\n",
        "recipe_list = list(recipe_db.find())\n",
        "print(f\"Всего блюд - {len(recipe_list)}\")\n",
        "\n",
        "for recipe in recipe_list:\n",
        "  if '_id' in recipe:\n",
        "    del recipe['_id']\n",
        "\n",
        "with open('recipes_raw.json', 'w') as f:\n",
        "  f.write(json.dumps(recipe_list, indent=2))"
      ],
      "execution_count": 8,
      "outputs": [
        {
          "output_type": "stream",
          "text": [
            "Всего блюд - 31233\n"
          ],
          "name": "stdout"
        }
      ]
    },
    {
      "cell_type": "markdown",
      "metadata": {
        "id": "cAYfrOfiwyF6",
        "colab_type": "text"
      },
      "source": [
        "## Preprocessing"
      ]
    },
    {
      "cell_type": "code",
      "metadata": {
        "id": "r23aYzz6kgeF",
        "colab_type": "code",
        "colab": {}
      },
      "source": [
        "from PIL import Image\n",
        "from tqdm.notebook import tqdm\n",
        "import pickle"
      ],
      "execution_count": 9,
      "outputs": []
    },
    {
      "cell_type": "markdown",
      "metadata": {
        "id": "JhM0ayw9DFEX",
        "colab_type": "text"
      },
      "source": [
        "Проверка на битые картинки"
      ]
    },
    {
      "cell_type": "code",
      "metadata": {
        "id": "nIE07PSow0FB",
        "colab_type": "code",
        "colab": {
          "base_uri": "https://localhost:8080/",
          "height": 86,
          "referenced_widgets": [
            "771e012203f74a3f9f172b7219ba52b5",
            "2cd08bc6408a49358bc9cd1da734eb0b",
            "a212d360bbb64382800dc8caf48f9a9a",
            "2807ed8e973c44cea43d4cc5c6145704",
            "c9d5175231bc4859bdaef60c04dead00",
            "f28841ef517a4b5983e3007f02c3d538",
            "1f66669bcdb440f29bd164d4a63815ca",
            "e1762dcd68d7467596595566d1413c2e"
          ]
        },
        "outputId": "e6090f53-5e64-45b0-abff-4381f28910bb"
      },
      "source": [
        "path_to_img = 'AllRecipes_images/'\n",
        "img_size = (250, 250)\n",
        "\n",
        "bad_imgs_count = 0\n",
        "for file_name in tqdm(os.listdir(path_to_img), desc='Checking images'):\n",
        "  img = Image.open(path_to_img + file_name).convert('RGB')\n",
        "  if img.size != img_size:\n",
        "    print(f'Image {file_name} size - {img.size}')\n",
        "    bad_imgs_count += 1\n",
        "\n",
        "print(f'Total bad images found = {bad_imgs_count}')"
      ],
      "execution_count": 10,
      "outputs": [
        {
          "output_type": "display_data",
          "data": {
            "application/vnd.jupyter.widget-view+json": {
              "model_id": "771e012203f74a3f9f172b7219ba52b5",
              "version_minor": 0,
              "version_major": 2
            },
            "text/plain": [
              "HBox(children=(FloatProgress(value=0.0, description='Checking images', max=187047.0, style=ProgressStyle(descr…"
            ]
          },
          "metadata": {
            "tags": []
          }
        },
        {
          "output_type": "stream",
          "text": [
            "\n",
            "Total bad images found = 0\n"
          ],
          "name": "stdout"
        }
      ]
    },
    {
      "cell_type": "markdown",
      "metadata": {
        "id": "Ai37LclIDIA4",
        "colab_type": "text"
      },
      "source": [
        "Удаление дубликатов рецептов"
      ]
    },
    {
      "cell_type": "code",
      "metadata": {
        "id": "keImzggCvOKj",
        "colab_type": "code",
        "colab": {}
      },
      "source": [
        "with open('recipes_raw.json', 'rb') as f:\n",
        "  recipe_list = json.loads(f.read())"
      ],
      "execution_count": 11,
      "outputs": []
    },
    {
      "cell_type": "code",
      "metadata": {
        "id": "wSkBmoPdB5_8",
        "colab_type": "code",
        "colab": {
          "base_uri": "https://localhost:8080/",
          "height": 36
        },
        "outputId": "4ab046ff-e405-4aab-f435-7a88e2852157"
      },
      "source": [
        "unique_ids = set()\n",
        "\n",
        "tmp = []\n",
        "for recipe in recipe_list:\n",
        "  if recipe['id'] not in unique_ids:\n",
        "    tmp.append(recipe)\n",
        "    unique_ids.add(recipe['id'])\n",
        "\n",
        "recipe_list = tmp\n",
        "print((f'Рецептов после удаления дубликатов - {len(recipe_list)}'))"
      ],
      "execution_count": 12,
      "outputs": [
        {
          "output_type": "stream",
          "text": [
            "Рецептов после удаления дубликатов - 27827\n"
          ],
          "name": "stdout"
        }
      ]
    },
    {
      "cell_type": "code",
      "metadata": {
        "id": "0tORtULeC6u0",
        "colab_type": "code",
        "colab": {}
      },
      "source": [
        "with open('recipes_raw.json', 'w') as f:\n",
        "  f.write(json.dumps(recipe_list))"
      ],
      "execution_count": 13,
      "outputs": []
    },
    {
      "cell_type": "code",
      "metadata": {
        "id": "RxjAPXbu8VHL",
        "colab_type": "code",
        "colab": {
          "base_uri": "https://localhost:8080/",
          "height": 36
        },
        "outputId": "2cc3122b-f07b-4eb2-f2cd-404da5338503"
      },
      "source": [
        "empty_recipes_count = 0 \n",
        "for recipe in recipe_list:\n",
        "  if len(recipe['ingred_list']) == 0:\n",
        "    empty_recipes_count += 1\n",
        "\n",
        "print(f'Рецептов с пустым списком ингред-ов - {empty_recipes_count}')"
      ],
      "execution_count": 14,
      "outputs": [
        {
          "output_type": "stream",
          "text": [
            "Рецептов с пустым списком ингред-ов - 0\n"
          ],
          "name": "stdout"
        }
      ]
    },
    {
      "cell_type": "markdown",
      "metadata": {
        "id": "8IxELxKtHUF2",
        "colab_type": "text"
      },
      "source": [
        "Препроцессинг ингредиентов"
      ]
    },
    {
      "cell_type": "code",
      "metadata": {
        "id": "3akjSPTS8awc",
        "colab_type": "code",
        "colab": {}
      },
      "source": [
        "import html\n",
        "from html.parser import HTMLParser\n",
        "import re\n",
        "import unicodedata\n",
        "\n",
        "REPLACEMENTS = {\n",
        "    u'\\x91':\"'\", u'\\x92':\"'\", u'\\x93':'\"', u'\\x94':'\"', u'\\xa9':'',\n",
        "    u'\\xba': ' degrees ', u'\\xbc':' 1/4', u'\\xbd':' 1/2', u'\\xbe':' 3/4',\n",
        "    u'\\xd7':'x', u'\\xae': '',\n",
        "    '\\\\u00bd':' 1/2', '\\\\u00bc':' 1/4', '\\\\u00be':' 3/4',\n",
        "    u'\\\\u2153':' 1/3', '\\\\u00bd':' 1/2', '\\\\u00bc':' 1/4', '\\\\u00be':' 3/4',\n",
        "    '\\\\u2154':' 2/3', '\\\\u215b':' 1/8', '\\\\u215c':' 3/8', '\\\\u215d':' 5/8',\n",
        "    '\\\\u215e':' 7/8', '\\\\u2155':' 1/5', '\\\\u2156':' 2/5', '\\\\u2157':' 3/5',\n",
        "    '\\\\u2158':' 4/5', '\\\\u2159':' 1/6', '\\\\u215a':' 5/6', '\\\\u2014':'-',\n",
        "    '\\\\u0131':'1', '\\\\u2122':'', '\\\\u2019':\"'\", '\\\\u2013':'-', '\\\\u2044':'/',\n",
        "    '\\\\u201c':'\\\\\"', '\\\\u2018':\"'\", '\\\\u201d':'\\\\\"', '\\\\u2033': '\\\\\"',\n",
        "    '\\\\u2026': '...', '\\\\u2022': '', '\\\\u2028': ' ', '\\\\u02da': ' degrees ',\n",
        "    '\\\\uf04a': '', u'\\xb0': ' degrees ', '\\\\u0301': '', '\\\\u2070': ' degrees ',\n",
        "    '\\\\u0302': '', '\\\\uf0b0': ''\n",
        "}\n",
        "\n",
        "parser = HTMLParser()\n",
        "def prepro_txt(text):\n",
        "    import urllib\n",
        "\n",
        "    text = html.unescape(text)\n",
        "\n",
        "    for unichar, replacement in REPLACEMENTS.items():\n",
        "      if unichar in text:\n",
        "        text = text.replace(unichar, replacement)\n",
        "    text = unicodedata.normalize('NFKD', text).encode('ascii', 'ignore')\n",
        "\n",
        "    try:\n",
        "        text = urllib.parse.unquote(text.decode('ascii'))\n",
        "    except UnicodeDecodeError:\n",
        "        pass # if there's an errant %, unquoting will yield an invalid char\n",
        "\n",
        "    # some extra tokenization\n",
        "    text = ' - '.join(text.split('-'))\n",
        "    text = ' & '.join(text.split('&'))\n",
        "\n",
        "    text = re.sub(r'\\\\[nt]', ' ', text) # remove over-escaped line breaks and tabs\n",
        "    text = re.sub(r'\\b([^\\d\\s]+)/(.*)\\b', r'\\1 / \\2', text) # split non-fractions\n",
        "    text = re.sub(r'\\b(.*)/([^\\d\\s]+)\\b', r'\\1 / \\2', text) # e.g. 350 deg/gas mark\n",
        "    text = re.sub(r'\\s+', ' ', text) # remove extra whitespace\n",
        "\n",
        "    return text.strip()"
      ],
      "execution_count": 15,
      "outputs": []
    },
    {
      "cell_type": "code",
      "metadata": {
        "id": "V7nspR1tHh3Z",
        "colab_type": "code",
        "colab": {
          "base_uri": "https://localhost:8080/",
          "height": 68,
          "referenced_widgets": [
            "57845d1da9d14085b428a1a84b0e1fde",
            "ff0e5c394c5d4dc190f4f211a5a08be6",
            "e02aa259a9534257bd65127e582b202d",
            "2b3a385ff6ea49e2a88ff84450820edd",
            "5a2f78b8dacc4f7ebf9214c8b2826bea",
            "645720181bc240a18c4873b85a61369e",
            "97962543c6ba45aa96d9acd31e2024a7",
            "21dd69ef3a374ef4b2141d707c9b0447"
          ]
        },
        "outputId": "025c8810-e97a-49c1-d3ae-463f2d255917"
      },
      "source": [
        "for recipe in tqdm(recipe_list, desc='Preprocess ingredients'):\n",
        "  ingred_list = recipe['ingred_list']\n",
        "  new_ingred_list = []\n",
        "  for ingred in ingred_list:\n",
        "    new_ingred_list.append(prepro_txt(ingred))\n",
        "  recipe['ingred_list'] = new_ingred_list"
      ],
      "execution_count": 16,
      "outputs": [
        {
          "output_type": "display_data",
          "data": {
            "application/vnd.jupyter.widget-view+json": {
              "model_id": "57845d1da9d14085b428a1a84b0e1fde",
              "version_minor": 0,
              "version_major": 2
            },
            "text/plain": [
              "HBox(children=(FloatProgress(value=0.0, description='Preprocess ingredients', max=27827.0, style=ProgressStyle…"
            ]
          },
          "metadata": {
            "tags": []
          }
        },
        {
          "output_type": "stream",
          "text": [
            "\n"
          ],
          "name": "stdout"
        }
      ]
    },
    {
      "cell_type": "code",
      "metadata": {
        "id": "d2EPMKkmWBxT",
        "colab_type": "code",
        "colab": {}
      },
      "source": [
        "from string import ascii_lowercase\n",
        "def replace_units(s):\n",
        "  tokens = s.replace('to taste', '').split()\n",
        "  units = ['ounce', 'ounces', 'cups', 'cup', 'teaspoon', 'tablespoon', 'tablespoons', 'teaspoons', \n",
        "           'c', 'g', 'v', 'tbsp', 'x', 'ml', 'lb', 'tbs', 'oz', 'pkg', 'large', 'small', 'tsp', 'inch', \n",
        "           'grams', 'quarts', 'lbs', 'can', 'cube', 'whole', 'or', 'pieces', 'piece', 'chopped', \n",
        "           'shredded', 'diced', 'fresh', 'crushed', 'minced']\n",
        "  tokens_new = []\n",
        "  for t in tokens:\n",
        "      if t not in units:\n",
        "          tokens_new.append(t)\n",
        "  \n",
        "  return ' '.join(tokens_new)\n",
        "\n",
        "def cleanup_ingredient_list(l):\n",
        "    l = [replace_units(''.join([char for char in x.lower() if char in ascii_lowercase + ' ']).strip()) for x in l]\n",
        "    return l"
      ],
      "execution_count": 17,
      "outputs": []
    },
    {
      "cell_type": "code",
      "metadata": {
        "id": "PGUFHfhhYluJ",
        "colab_type": "code",
        "colab": {
          "base_uri": "https://localhost:8080/",
          "height": 68,
          "referenced_widgets": [
            "f84801b926074127923fd83127c2b3bf",
            "91f0cf13e689417385d4af1be099a051",
            "87026ce9011b4f22a435436740d1b943",
            "509ba4e54be140d38e37aa5f6346eeba",
            "91ed12e89fe84dc99985073ecf5ed5d7",
            "1b8fea9a239c4ca69463eca97ac721dc",
            "13bfc37f322c4e3bb70c6f7dfb6bf9c8",
            "38dad5c0da334d3f94d635334a8582ad"
          ]
        },
        "outputId": "4bb2c8d5-abcc-4da8-9039-6d4d78b59469"
      },
      "source": [
        "for recipe in tqdm(recipe_list, desc='Preprocess ingredients'):\n",
        "  recipe['ingred_list'] = cleanup_ingredient_list(recipe['ingred_list'])"
      ],
      "execution_count": 18,
      "outputs": [
        {
          "output_type": "display_data",
          "data": {
            "application/vnd.jupyter.widget-view+json": {
              "model_id": "f84801b926074127923fd83127c2b3bf",
              "version_minor": 0,
              "version_major": 2
            },
            "text/plain": [
              "HBox(children=(FloatProgress(value=0.0, description='Preprocess ingredients', max=27827.0, style=ProgressStyle…"
            ]
          },
          "metadata": {
            "tags": []
          }
        },
        {
          "output_type": "stream",
          "text": [
            "\n"
          ],
          "name": "stdout"
        }
      ]
    },
    {
      "cell_type": "code",
      "metadata": {
        "id": "NycynifwWq8a",
        "colab_type": "code",
        "colab": {}
      },
      "source": [
        "import csv\n",
        "from nltk import ngrams\n",
        "from collections import Counter"
      ],
      "execution_count": 28,
      "outputs": []
    },
    {
      "cell_type": "code",
      "metadata": {
        "id": "-ghrqxcRbd3j",
        "colab_type": "code",
        "colab": {
          "base_uri": "https://localhost:8080/",
          "height": 86,
          "referenced_widgets": [
            "a6ce65dc7a034a09b648b1a67a519f6c",
            "2cef761dbfed4cc983ce74d21dbd0d6c",
            "52c789b8211c43cbb7da6905ae6ab86a",
            "df5dd80ad4f34e36a78499680d2c189b",
            "d6027c9f3242461581bd04671a3547a2",
            "54810d4a09db4f008fea595e84dcfa5c",
            "607109d9f06e4baab573810f7ebbce22",
            "db515a2ad2074dd598615334066e6c73"
          ]
        },
        "outputId": "18bba727-9110-4b5c-ad25-80a3955bfdd0"
      },
      "source": [
        "import string\n",
        "clean_ingredients = set()\n",
        "\n",
        "with open('food.csv', 'r') as f:\n",
        "  reader = csv.reader(f)\n",
        "  next(reader)\n",
        "  for row in tqdm(reader):\n",
        "    ingr = row[2].lower()\n",
        "    ingr = re.sub(r',', '', ingr)\n",
        "    ingr_split = [word for word in ingr.split() if word.isalpha()]\n",
        "    if len(ingr_split) > 5:\n",
        "      ingr_split = ingr_split[:5]\n",
        "    bigrams = []\n",
        "    for i, ingr_tuple in enumerate(list(iter(ngrams(ingr_split, 2)))):\n",
        "      bigrams.append(' '.join(ingr_tuple))\n",
        "    ingr_split.reverse()\n",
        "    for ingr_tuple in list(iter(ngrams(ingr_split, 2))):\n",
        "      bigrams.append(' '.join(ingr_tuple))\n",
        "    unigrams = ingr_split\n",
        "    candidates = [*bigrams, *unigrams]\n",
        "    \n",
        "    clean_ingredients.update(candidates)\n",
        "\n",
        "clean_ingredients = list(clean_ingredients)\n",
        "print(len(clean_ingredients))"
      ],
      "execution_count": 23,
      "outputs": [
        {
          "output_type": "display_data",
          "data": {
            "application/vnd.jupyter.widget-view+json": {
              "model_id": "a6ce65dc7a034a09b648b1a67a519f6c",
              "version_minor": 0,
              "version_major": 2
            },
            "text/plain": [
              "HBox(children=(FloatProgress(value=1.0, bar_style='info', max=1.0), HTML(value='')))"
            ]
          },
          "metadata": {
            "tags": []
          }
        },
        {
          "output_type": "stream",
          "text": [
            "\n",
            "3713\n"
          ],
          "name": "stdout"
        }
      ]
    },
    {
      "cell_type": "code",
      "metadata": {
        "id": "KvHiN4MPlmEy",
        "colab_type": "code",
        "colab": {}
      },
      "source": [
        "from nltk import ngrams\n",
        "\n",
        "def select_n_max_length_ingr(l, n=2):\n",
        "    l.sort(key=lambda x: -len(x))\n",
        "    return l[:n]\n",
        "\n",
        "def select_all(l):\n",
        "    return l\n",
        "\n",
        "def select_percentage_and_min(l, percentage=0.65, min_count=2):\n",
        "    return select_n_max_length_ingr(l, n=max(min_count, round(len(l)*percentage)))\n",
        "\n",
        "def clean_ingredient_list(l, clean_ingredients):\n",
        "    recipe = []\n",
        "\n",
        "    for ingr in l:\n",
        "      bigrams = []\n",
        "      for i, ingr_tuple in enumerate(list(iter(ngrams(ingr.split(), 2)))):\n",
        "        bigrams.append(' '.join(ingr_tuple))\n",
        "      bigr_found = False\n",
        "      for ingr in bigrams:\n",
        "        if ingr in clean_ingredients:\n",
        "          recipe.append(ingr)\n",
        "          bigr_found = True\n",
        "          break\n",
        "      if bigr_found:\n",
        "        continue\n",
        "      unigrams = ingr.split()\n",
        "      for ingr in unigrams:\n",
        "        if ingr in clean_ingredients:\n",
        "          recipe.append(ingr)\n",
        "          break\n",
        "\n",
        "    return recipe"
      ],
      "execution_count": 24,
      "outputs": []
    },
    {
      "cell_type": "code",
      "metadata": {
        "id": "GZSw5dJghtWx",
        "colab_type": "code",
        "colab": {}
      },
      "source": [
        "# clean_ingredients.remove('all purpose')\n",
        "# clean_ingredients.remove('skinless boneless')\n",
        "# clean_ingredients.remove('boneless')\n",
        "# clean_ingredients.remove('skinless')\n",
        "# clean_ingredients.remove('prepared')"
      ],
      "execution_count": 25,
      "outputs": []
    },
    {
      "cell_type": "code",
      "metadata": {
        "id": "qLXiNNOMmjPm",
        "colab_type": "code",
        "colab": {
          "base_uri": "https://localhost:8080/",
          "height": 86,
          "referenced_widgets": [
            "042d616e745a4ff789f417070714ea4b",
            "f948af496ab3461c97634850547cd839",
            "a7bd81041d744e31be59e141935b3b96",
            "05817d87d2f34f07a31c098b63fd9d13",
            "088a60d6ac6a4f29a5dc4e73fea06a7b",
            "7858df82e672463eada31bc8868dca44",
            "0ceedce9a7744fdb98b123f2c5f43879",
            "10a470abf4e448babe7e9032e712b952"
          ]
        },
        "outputId": "78b04ce0-e663-4631-a5f2-4a4d20aa7fc1"
      },
      "source": [
        "for recipe in tqdm(recipe_list):\n",
        "  recipe['ingred_list'] = clean_ingredient_list(recipe['ingred_list'], clean_ingredients)"
      ],
      "execution_count": 26,
      "outputs": [
        {
          "output_type": "display_data",
          "data": {
            "application/vnd.jupyter.widget-view+json": {
              "model_id": "042d616e745a4ff789f417070714ea4b",
              "version_minor": 0,
              "version_major": 2
            },
            "text/plain": [
              "HBox(children=(FloatProgress(value=0.0, max=27827.0), HTML(value='')))"
            ]
          },
          "metadata": {
            "tags": []
          }
        },
        {
          "output_type": "stream",
          "text": [
            "/usr/local/lib/python3.6/dist-packages/ipykernel_launcher.py:18: DeprecationWarning: generator 'ngrams' raised StopIteration\n"
          ],
          "name": "stderr"
        },
        {
          "output_type": "stream",
          "text": [
            "\n"
          ],
          "name": "stdout"
        }
      ]
    },
    {
      "cell_type": "code",
      "metadata": {
        "id": "6bCFhXb3lm3P",
        "colab_type": "code",
        "colab": {}
      },
      "source": [
        "find_n_ingredients = 3000\n",
        "select_top_n_ingredients = 1000\n",
        "\n",
        "ingredient_preselection = []\n",
        "unique_ingredient_count = 0\n",
        "\n",
        "for recipe in tqdm(recipe_list):\n",
        "    new_ingred_list = recipe['ingred_list']\n",
        "    ingredient_preselection.extend(new_ingred_list)\n",
        "        \n",
        "    unique_ingredient_count = len(set(ingredient_preselection))\n",
        "    if unique_ingredient_count > find_n_ingredients:\n",
        "        break\n",
        "\n",
        "print(f'Found {unique_ingredient_count} unique ingredients') \n",
        "        \n",
        "c = Counter(ingredient_preselection)\n",
        "clean_ingredients = list([i for i, n in c.most_common()][:select_top_n_ingredients])"
      ],
      "execution_count": null,
      "outputs": []
    },
    {
      "cell_type": "code",
      "metadata": {
        "id": "prGuf7NnWh5X",
        "colab_type": "code",
        "colab": {}
      },
      "source": [
        "recipe_list = [recipe for recipe in recipe_list if len(recipe['ingred_list']) > 0]"
      ],
      "execution_count": 59,
      "outputs": []
    },
    {
      "cell_type": "code",
      "metadata": {
        "id": "vS1EMWrUnRq7",
        "colab_type": "code",
        "colab": {}
      },
      "source": [
        "with open('recipes.json', 'w') as f:\n",
        "  f.write(json.dumps(recipe_list, indent=2))"
      ],
      "execution_count": 60,
      "outputs": []
    },
    {
      "cell_type": "markdown",
      "metadata": {
        "id": "fidiZ1Rso9ft",
        "colab_type": "text"
      },
      "source": [
        "## Обучение"
      ]
    },
    {
      "cell_type": "code",
      "metadata": {
        "id": "aFYFa2iCo-_U",
        "colab_type": "code",
        "colab": {
          "base_uri": "https://localhost:8080/",
          "height": 36
        },
        "outputId": "74d399ae-744b-4801-82ee-d365dd595dd1"
      },
      "source": [
        "import os\n",
        "import torch\n",
        "import torch.nn as nn\n",
        "import torch.optim as optim\n",
        "from torchvision import transforms, models\n",
        "from torch.utils.data import Dataset, DataLoader\n",
        "from torch.nn.utils.rnn import pack_padded_sequence, pad_sequence\n",
        "from collections import defaultdict\n",
        "import matplotlib.pyplot as plt\n",
        "from PIL import Image\n",
        "import numpy as np\n",
        "device = torch.device('cuda') if torch.cuda.is_available() else torch.device('cpu')\n",
        "print(device)"
      ],
      "execution_count": 49,
      "outputs": [
        {
          "output_type": "stream",
          "text": [
            "cuda\n"
          ],
          "name": "stdout"
        }
      ]
    },
    {
      "cell_type": "code",
      "metadata": {
        "id": "GVMFyxLkJfyI",
        "colab_type": "code",
        "colab": {}
      },
      "source": [
        "id2word = defaultdict()\n",
        "id2word[0] = '<pad>'\n",
        "id2word[1] = '<start>'\n",
        "id2word[2] = '<end>'\n",
        "id2word[3] = '<unk>'\n",
        "for i, ingr in enumerate(clean_ingredients):\n",
        "  id2word[i+4] = ingr\n",
        "\n",
        "word2id = {v:k for k,v in id2word.items()}"
      ],
      "execution_count": 33,
      "outputs": []
    },
    {
      "cell_type": "code",
      "metadata": {
        "id": "S6a9t4TODIUV",
        "colab_type": "code",
        "colab": {}
      },
      "source": [
        "def ids2words(word_ids):\n",
        "  return [id2word[id] for id in word_ids]\n",
        "\n",
        "def words2ids(words):\n",
        "  return [word2id[word] for word in words]"
      ],
      "execution_count": 34,
      "outputs": []
    },
    {
      "cell_type": "code",
      "metadata": {
        "id": "q9D54fJGD4Je",
        "colab_type": "code",
        "colab": {}
      },
      "source": [
        "class RecipesDataset(Dataset):\n",
        "  def __init__(self, recipes_json, img_folder, transform=None):\n",
        "    super().__init__()\n",
        "\n",
        "    with open(recipes_json, 'r') as f:\n",
        "      recipes = json.load(f)\n",
        "    self.recipes = defaultdict(dict)\n",
        "    for recipe in recipes:\n",
        "      self.recipes[recipe['id']] = recipe\n",
        "\n",
        "    self.img_folder = img_folder\n",
        "    self.imgs = os.listdir(self.img_folder)\n",
        "    self.imgs = [img for img in self.imgs if img.split('_')[0] in self.recipes]\n",
        "    \n",
        "    self.transform = transform\n",
        "\n",
        "  def __getitem__(self, index):\n",
        "    img_name = self.imgs[index]\n",
        "    img = Image.open(self.img_folder + img_name).convert('RGB')\n",
        "    if self.transform is not None:\n",
        "      img = self.transform(img)\n",
        "    \n",
        "    recipe_id = img_name.split('_')[0]\n",
        "    ingred_list = self.recipes[recipe_id]['ingred_list']\n",
        "    return img, torch.LongTensor(words2ids(ingred_list))\n",
        "\n",
        "  def __len__(self):\n",
        "    return len(self.imgs)"
      ],
      "execution_count": 79,
      "outputs": []
    },
    {
      "cell_type": "code",
      "metadata": {
        "id": "ewwWJnrLJQSh",
        "colab_type": "code",
        "colab": {}
      },
      "source": [
        "from torch.nn.utils.rnn import pad_sequence\n",
        "\n",
        "def pad_collate(data):\n",
        "  # отсортируем по длине описания\n",
        "  data.sort(key=lambda x: len(x[1]), reverse=True)\n",
        "  images, captions = zip(*data)\n",
        "  \n",
        "  # составим 4D тензор изображений из кортежа 3D тензоров\n",
        "  # images: (batch_size, channels(rgb), width, height)\n",
        "  images = torch.stack(images, 0)\n",
        "\n",
        "  # составим 2D тензор описаний из кортежа 1D тензоров\n",
        "  # дополним каждое описание символом <pad> так, чтобы у всех описаний совпадали длины\n",
        "  lengths = [len(cap) for cap in captions]\n",
        "  targets = torch.LongTensor(np.zeros((len(captions), max(lengths))))\n",
        "  for i, cap in enumerate(captions):\n",
        "    end = lengths[i]\n",
        "    targets[i, :end] = cap[:end]  \n",
        "\n",
        "  return images, targets, lengths"
      ],
      "execution_count": 36,
      "outputs": []
    },
    {
      "cell_type": "code",
      "metadata": {
        "id": "XZne4SUcH56m",
        "colab_type": "code",
        "colab": {}
      },
      "source": [
        "transform = transforms.Compose([\n",
        "  transforms.Resize((224, 224)),\n",
        "  transforms.ToTensor(),\n",
        "  transforms.Normalize(mean=(0.485, 0.456, 0.406), std=(0.229, 0.224, 0.225))\n",
        "])\n",
        "\n",
        "train_data = RecipesDataset('recipes.json', 'AllRecipes_images/', transform)\n",
        "\n",
        "batch_size = 256\n",
        "train_loader = torch.utils.data.DataLoader(train_data, batch_size=batch_size,\n",
        "                                          num_workers=4, collate_fn=pad_collate, shuffle=True)"
      ],
      "execution_count": 80,
      "outputs": []
    },
    {
      "cell_type": "code",
      "metadata": {
        "id": "q9gmWVEhLU16",
        "colab_type": "code",
        "colab": {}
      },
      "source": [
        "class Encoder(nn.Module):\n",
        "  def __init__(self, encoder):\n",
        "    super().__init__()\n",
        "\n",
        "    for param in encoder.parameters():\n",
        "        param.requires_grad = False\n",
        "\n",
        "    modules = list(encoder.children())[:-1]\n",
        "    self.encoder = nn.Sequential(*modules)\n",
        "  \n",
        "  def forward(self, images):\n",
        "    with torch.no_grad():\n",
        "      features = self.encoder(images)\n",
        "    features = features.view(features.size(0), -1)\n",
        "    return features"
      ],
      "execution_count": 38,
      "outputs": []
    },
    {
      "cell_type": "code",
      "metadata": {
        "id": "42qVwKThLq0C",
        "colab_type": "code",
        "colab": {
          "base_uri": "https://localhost:8080/",
          "height": 86,
          "referenced_widgets": [
            "5a8bab8f5acd4b009e0e349599b35900",
            "7a43d862aea54594bd54b57b96c88fce",
            "a4a95001cb6f435c9338001a4d662e1a",
            "0c256c676fb44c2fa58d91c3ab0c3632",
            "8cc5e90b8aba4a27acb88f5b3d225fa7",
            "ead032b5321e4e8eb51de36bf9372289",
            "8b0add374db2484e88051b9f0c284cbb",
            "7e2a1c70876b464a8cc2461bbe0b6a3b"
          ]
        },
        "outputId": "20956a91-ffe4-48a4-fdca-71c89c3bdfef"
      },
      "source": [
        "encoder = Encoder(models.resnet50(pretrained=True)).to(device)"
      ],
      "execution_count": 39,
      "outputs": [
        {
          "output_type": "stream",
          "text": [
            "Downloading: \"https://download.pytorch.org/models/resnet50-19c8e357.pth\" to /root/.cache/torch/checkpoints/resnet50-19c8e357.pth\n"
          ],
          "name": "stderr"
        },
        {
          "output_type": "display_data",
          "data": {
            "application/vnd.jupyter.widget-view+json": {
              "model_id": "5a8bab8f5acd4b009e0e349599b35900",
              "version_minor": 0,
              "version_major": 2
            },
            "text/plain": [
              "HBox(children=(FloatProgress(value=0.0, max=102502400.0), HTML(value='')))"
            ]
          },
          "metadata": {
            "tags": []
          }
        },
        {
          "output_type": "stream",
          "text": [
            "\n"
          ],
          "name": "stdout"
        }
      ]
    },
    {
      "cell_type": "code",
      "metadata": {
        "id": "6q4vE0yGL4a4",
        "colab_type": "code",
        "colab": {}
      },
      "source": [
        "class Decoder(nn.Module):\n",
        "    def __init__(self, encod_size, embed_size, hidden_size, vocab_size, num_layers=2, dropout=0):\n",
        "      super().__init__()\n",
        "      self.encod_feat = nn.Linear(encod_size, embed_size)\n",
        "      #self.bn = nn.BatchNorm1d(embed_size, momentum=0.01)\n",
        "      self.embedding = nn.Embedding(vocab_size, embed_size)\n",
        "      self.rnn = nn.LSTM(embed_size, hidden_size, num_layers, batch_first=True,\n",
        "                         dropout=dropout, bidirectional=True)\n",
        "      self.linear = nn.Linear(hidden_size * 2, vocab_size)\n",
        "  \n",
        "    # обучение, используются истинные описания\n",
        "    def forward(self, features, captions, lengths):\n",
        "      embed = self.embedding(captions)\n",
        "      features = self.encod_feat(features)\n",
        "      #featues = self.bn(features)\n",
        "      embed = torch.cat((features.unsqueeze(1), embed), 1)\n",
        "      packed = pack_padded_sequence(embed, lengths, batch_first=True)\n",
        "      outputs, _ = self.rnn(packed)\n",
        "      outputs = self.linear(outputs[0])\n",
        "      return outputs\n",
        "\n",
        "    # проверка, истинные описания не используются\n",
        "    def sample(self, features, max_len, states=None):\n",
        "      id_preds = list()\n",
        "      features = self.encod_feat(features)\n",
        "      #features = self.bn(features)\n",
        "      inputs = features.unsqueeze(1)\n",
        "      for i in range(max_len):\n",
        "        rnn_outputs, states = self.rnn(inputs, states)\n",
        "        lin_outputs = self.linear(rnn_outputs.squeeze(1))\n",
        "        _, pred_id = lin_outputs.max(1)\n",
        "        id_preds.append(pred_id)\n",
        "        inputs = self.embedding(pred_id).unsqueeze(1)\n",
        "      id_preds = torch.stack(id_preds, 1)\n",
        "      return id_preds"
      ],
      "execution_count": 128,
      "outputs": []
    },
    {
      "cell_type": "code",
      "metadata": {
        "id": "-wft1WgSORap",
        "colab_type": "code",
        "colab": {}
      },
      "source": [
        "encod_size = 2048\n",
        "embed_size = 512\n",
        "hidden_size = 512\n",
        "vocab_size = len(word2id)\n",
        "\n",
        "decoder = Decoder(encod_size, embed_size, hidden_size, vocab_size).to(device)"
      ],
      "execution_count": 129,
      "outputs": []
    },
    {
      "cell_type": "code",
      "metadata": {
        "id": "xpfGUi2qDUa9",
        "colab_type": "code",
        "colab": {}
      },
      "source": [
        "def train(encoder, decoder, criterion, optimizer, num_epochs,\n",
        "          epoch_losses, log_step=100):\n",
        "\n",
        "  batch_losses = defaultdict(list)\n",
        "  for epoch in range(1, num_epochs + 1):\n",
        "    # режим обучения\n",
        "\n",
        "    print(f'Эпоха {epoch}')\n",
        "\n",
        "    running_loss = 0.0\n",
        "    \n",
        "    i = 1\n",
        "    for images, tokens, lengths in tqdm(train_loader, desc=f'Обучение'):\n",
        "      # Перенесем изобр-я и описания на GPU, составим вектор истинных описаний\n",
        "      images = images.to(device)\n",
        "      tokens = tokens.to(device)\n",
        "      targets = pack_padded_sequence(tokens, lengths, batch_first=True)[0]\n",
        "\n",
        "      # Проведем изобр-я через модель, получим описания (в виде векторов id), сгенерир. моделью\n",
        "      features = encoder(images)\n",
        "      outputs = decoder(features, tokens[:, :-1], lengths)\n",
        "      \n",
        "      # посчитать лосс на батче\n",
        "      loss = criterion(outputs, targets)\n",
        "      \n",
        "      # посчитать градиенты\n",
        "      loss.backward()\n",
        "      \n",
        "      # обновить параметры модели\n",
        "      optimizer.step()\n",
        "      \n",
        "      # обнулить градиенты\n",
        "      optimizer.zero_grad()\n",
        "\n",
        "      running_loss += loss.item()\n",
        "\n",
        "      if i % log_step == 0:\n",
        "        batch_loss = loss.item()\n",
        "        print(f'Batch {i} loss:\\t{batch_loss:.4f}')\n",
        "        batch_losses['train_nll'].append(batch_loss)\n",
        "\n",
        "      i+=1\n",
        "\n",
        "    torch.save(decoder.state_dict(), f'weights/{i}_epoch.pth')\n",
        "    \n",
        "\n",
        "    train_loss = running_loss / len(train_loader)\n",
        "    print(f'Epoch train loss:\\t{train_loss:.4f}')\n",
        "    epoch_losses['train_nll'].append(train_loss)\n",
        "    \n",
        "  return epoch_losses"
      ],
      "execution_count": 136,
      "outputs": []
    },
    {
      "cell_type": "code",
      "metadata": {
        "id": "dZ_ZEEv3O8EN",
        "colab_type": "code",
        "colab": {
          "base_uri": "https://localhost:8080/",
          "height": 179,
          "referenced_widgets": [
            "c269ad4221704568a29956977f46d59f",
            "472096dc82e04719a9429898e123379a",
            "41e5dae6e7e74d1a84d232adb336e464",
            "94ebd374bf7b4941a759f89235a92553",
            "5754ba1f5ccd4fd4a4eeb0ca50342ea1",
            "070c1bce560b4217a352516578ebd04b",
            "e0c0e95b7fe04538a583b4ab93499ecc",
            "72e59bae5cc2479e9a5d48df4f24f478"
          ]
        },
        "outputId": "1f241880-b424-4146-ee78-c12b226bdb91"
      },
      "source": [
        "for p in decoder.rnn.parameters():\n",
        "    p.register_hook(lambda grad: torch.clamp(grad, -5, 5))\n",
        "\n",
        "criterion = nn.CrossEntropyLoss()\n",
        "torch.manual_seed(42)\n",
        "optimizer = optim.Adam(params=decoder.parameters(), lr=1e-3)\n",
        "epoch_losses = defaultdict(list)\n",
        "\n",
        "encoder.train()\n",
        "decoder.train()\n",
        "\n",
        "torch.manual_seed(42)\n",
        "train(encoder, decoder, criterion, optimizer, num_epochs=5, epoch_losses=epoch_losses)"
      ],
      "execution_count": null,
      "outputs": [
        {
          "output_type": "stream",
          "text": [
            "Эпоха 1\n"
          ],
          "name": "stdout"
        },
        {
          "output_type": "display_data",
          "data": {
            "application/vnd.jupyter.widget-view+json": {
              "model_id": "c269ad4221704568a29956977f46d59f",
              "version_minor": 0,
              "version_major": 2
            },
            "text/plain": [
              "HBox(children=(FloatProgress(value=0.0, description='Обучение', max=728.0, style=ProgressStyle(description_wid…"
            ]
          },
          "metadata": {
            "tags": []
          }
        },
        {
          "output_type": "stream",
          "text": [
            "Batch 100 loss:\t0.0562\n",
            "Batch 200 loss:\t0.0630\n",
            "Batch 300 loss:\t0.0635\n",
            "Batch 400 loss:\t0.0482\n",
            "Batch 500 loss:\t0.0612\n",
            "Batch 600 loss:\t0.0444\n"
          ],
          "name": "stdout"
        }
      ]
    },
    {
      "cell_type": "code",
      "metadata": {
        "id": "XcQyasgRkIhG",
        "colab_type": "code",
        "colab": {}
      },
      "source": [
        "torch.save(decoder.state_dict(), f'weights/5_epochs.pth')"
      ],
      "execution_count": 117,
      "outputs": []
    },
    {
      "cell_type": "code",
      "metadata": {
        "id": "S9GGbAXMXuj3",
        "colab_type": "code",
        "colab": {}
      },
      "source": [
        "plt.figure(figsize=(12, 8))\n",
        "plt.plot(epoch_losses['train_nll'])\n",
        "plt.title('Лосс на обучении')\n",
        "plt.show()"
      ],
      "execution_count": null,
      "outputs": []
    },
    {
      "cell_type": "markdown",
      "metadata": {
        "id": "l8BPxXk0kYF4",
        "colab_type": "text"
      },
      "source": [
        "Посмотрим на результат"
      ]
    },
    {
      "cell_type": "code",
      "metadata": {
        "id": "djaLJKaHmJaS",
        "colab_type": "code",
        "colab": {
          "base_uri": "https://localhost:8080/",
          "height": 36
        },
        "outputId": "d416a49f-e911-4d7f-874b-fec0efa1a710"
      },
      "source": [
        "decoder.load_state_dict(torch.load(f'weights/5_epochs.pth'))"
      ],
      "execution_count": 130,
      "outputs": [
        {
          "output_type": "execute_result",
          "data": {
            "text/plain": [
              "<All keys matched successfully>"
            ]
          },
          "metadata": {
            "tags": []
          },
          "execution_count": 130
        }
      ]
    },
    {
      "cell_type": "code",
      "metadata": {
        "id": "9aQ7-1gnjuSD",
        "colab_type": "code",
        "colab": {}
      },
      "source": [
        "from random import randint\n",
        "\n",
        "decoder.eval()\n",
        "val_images = os.listdir('AllRecipes_images')\n",
        "with torch.no_grad():\n",
        "  img = Image.open('AllRecipes_images/' + val_images[randint(0, len(val_images)-1)])\n",
        "  plt.figure(figsize=(12,8))\n",
        "  plt.imshow(img)\n",
        "  img = transform(img).to(device).unsqueeze(0)\n",
        "  ingred_pred = ids2words(decoder.sample(encoder(img), 7)[0].cpu().numpy())\n",
        "  print(ingred_pred)"
      ],
      "execution_count": null,
      "outputs": []
    },
    {
      "cell_type": "code",
      "metadata": {
        "id": "Jtz9AnkLkcXg",
        "colab_type": "code",
        "colab": {}
      },
      "source": [
        ""
      ],
      "execution_count": null,
      "outputs": []
    }
  ]
}